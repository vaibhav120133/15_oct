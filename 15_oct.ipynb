{
 "cells": [
  {
   "cell_type": "markdown",
   "id": "632bdb0d-2d02-4bf0-bf2e-6cc96df7b2d5",
   "metadata": {},
   "source": [
    "#1\n",
    "In Python, a constructor is a special method within a class that is automatically called when an object of that class is created. The constructor method in Python is named __init__() and is used to initialize the attributes of an object. Its purpose is to set up the initial state of an object by assigning values to instance variables or performing any necessary setup tasks."
   ]
  },
  {
   "cell_type": "markdown",
   "id": "0e556106-2cc0-4d98-9f26-e368f47e5139",
   "metadata": {},
   "source": [
    "#2\n",
    "\n",
    "Parameterless Constructor:\n",
    "\n",
    "1. Also known as a non-parameterized constructor or a default constructor.\n",
    "2. Does not take any arguments besides the mandatory self argument, which refers to the object itself.\n",
    "Used for:\n",
    "Initializing attributes with default values.\n",
    "Performing basic setup tasks that don't require external input.\n",
    "\n",
    "Parameterized Constructor:\n",
    "\n",
    "1. Takes additional arguments besides self.\n",
    "2. These arguments are used to customize the object's attributes during creation.\n",
    "3. Provides flexibility in creating objects with varying properties."
   ]
  },
  {
   "cell_type": "code",
   "execution_count": 1,
   "id": "e154a32f-f1db-485a-8825-523d95f0de52",
   "metadata": {},
   "outputs": [
    {
     "name": "stdout",
     "output_type": "stream",
     "text": [
      "Honda Civic Red 2023\n"
     ]
    }
   ],
   "source": [
    "#3\n",
    "class Car:\n",
    "  def __init__(self, model, color, year):  # Parameterized constructor\n",
    "    self.model = model\n",
    "    self.color = color\n",
    "    self.year = year\n",
    "\n",
    "# Creating a Car object with specific details\n",
    "my_car = Car(\"Honda Civic\", \"Red\", 2023)\n",
    "\n",
    "print(my_car.model, my_car.color, my_car.year)  # Output: Honda Civic Red 2023\n"
   ]
  },
  {
   "cell_type": "markdown",
   "id": "4d13153f-3ec3-42c6-944b-f1335b43025e",
   "metadata": {},
   "source": [
    "#4\n",
    "The __init__ method in Python plays a central role in constructors, even though Python doesn't use the term \"constructor\" in the same way as some other languages. Here's a breakdown of its functionality"
   ]
  },
  {
   "cell_type": "code",
   "execution_count": 2,
   "id": "97d200fc-4873-4008-bc34-61c7b58c4664",
   "metadata": {},
   "outputs": [
    {
     "name": "stdout",
     "output_type": "stream",
     "text": [
      "Bob 25\n"
     ]
    }
   ],
   "source": [
    "#5\n",
    "class Person:\n",
    "  def __init__(self, name, age):  # Constructor to initialize name and age\n",
    "    self.name = name\n",
    "    self.age = age\n",
    "\n",
    "# Creating a Person object\n",
    "person1 = Person(\"Bob\", 25)\n",
    "\n",
    "print(person1.name, person1.age)  # Output: Bob 25\n"
   ]
  },
  {
   "cell_type": "markdown",
   "id": "c43cdc8a-3559-4371-b535-bfa2ea93ff24",
   "metadata": {},
   "source": [
    "#6\n",
    "While Python doesn't require explicit constructor calls when creating objects, you might encounter code from other languages (like Java or C++) where constructors are explicitly invoked. However, in Python, attempting to call __init__ directly is generally discouraged."
   ]
  },
  {
   "cell_type": "code",
   "execution_count": 3,
   "id": "9ad93548-2b47-4898-ba27-963666c25f95",
   "metadata": {},
   "outputs": [
    {
     "name": "stdout",
     "output_type": "stream",
     "text": [
      "Honda Civic Red\n"
     ]
    }
   ],
   "source": [
    "#7\n",
    "class Car:\n",
    "    def __init__(self, model, color):\n",
    "        self.model = model  # Assigning value to object's 'model' attribute using self\n",
    "        self.color = color  # Assigning value to object's 'color' attribute using self\n",
    "\n",
    "# Creating a Car object:\n",
    "my_car = Car(\"Honda Civic\", \"Red\")\n",
    "print(my_car.model, my_car.color)  # Output: Honda Civic Red\n"
   ]
  },
  {
   "cell_type": "markdown",
   "id": "75aaba20-f1a3-4362-8130-9cedbbcb04d5",
   "metadata": {},
   "source": [
    "#8\n",
    "In Python, a default constructor (sometimes called a no-argument constructor) doesn't require any arguments in the __init__ method definition. This means you can create an object without providing any explicit values"
   ]
  },
  {
   "cell_type": "code",
   "execution_count": 4,
   "id": "16225737-0a1f-4d65-a96c-2ca5a5b701cc",
   "metadata": {},
   "outputs": [
    {
     "name": "stdout",
     "output_type": "stream",
     "text": [
      "Area of the rectangle: 15\n"
     ]
    }
   ],
   "source": [
    "#9\n",
    "class Rectangle:\n",
    "  def __init__(self, width, height):  # Constructor to initialize width and height\n",
    "    self.width = width\n",
    "    self.height = height\n",
    "\n",
    "  def calculate_area(self):\n",
    "    \"\"\"Calculates and returns the area of the rectangle.\"\"\"\n",
    "    return self.width * self.height\n",
    "\n",
    "# Example usage:\n",
    "rectangle1 = Rectangle(5, 3)\n",
    "area = rectangle1.calculate_area()\n",
    "print(\"Area of the rectangle:\", area)  # Output: Area of the rectangle: 15\n"
   ]
  },
  {
   "cell_type": "code",
   "execution_count": 5,
   "id": "9f2d6e04-41f5-4e35-bb4c-34f62e0427e0",
   "metadata": {},
   "outputs": [
    {
     "name": "stdout",
     "output_type": "stream",
     "text": [
      "0 0\n",
      "5 3\n"
     ]
    }
   ],
   "source": [
    "#10\n",
    "class Point:\n",
    "    def __init__(self, x=0, y=0):  # Constructor with default values\n",
    "        self.x = x\n",
    "        self.y = y\n",
    "\n",
    "# Creating a Point with default values (0, 0)\n",
    "point1 = Point()\n",
    "print(point1.x, point1.y)  # Output: 0 0\n",
    "\n",
    "# Creating a Point with custom values (5, 3)\n",
    "point2 = Point(5, 3)\n",
    "print(point2.x, point2.y)  # Output: 5 3\n"
   ]
  },
  {
   "cell_type": "markdown",
   "id": "050ce68d-c6ad-47e7-889f-618b1ecd4834",
   "metadata": {},
   "source": [
    "#11\n",
    "Method overloading, the ability to define methods with the same name but different argument lists, is not directly supported in Python. "
   ]
  },
  {
   "cell_type": "code",
   "execution_count": 6,
   "id": "aa16369f-be0a-474e-b839-493eca52072e",
   "metadata": {},
   "outputs": [
    {
     "name": "stdout",
     "output_type": "stream",
     "text": [
      "Red 5\n"
     ]
    }
   ],
   "source": [
    "#12\n",
    "class Shape:\n",
    "    def __init__(self, color):  # Parent class constructor\n",
    "        self.color = color\n",
    "\n",
    "class Circle(Shape):\n",
    "    def __init__(self, color, radius):  # Child class constructor\n",
    "        super().__init__(color)  # Call parent class constructor with 'color' argument\n",
    "        self.radius = radius\n",
    "\n",
    "circle1 = Circle(\"Red\", 5)\n",
    "print(circle1.color, circle1.radius)  # Output: Red 5\n"
   ]
  },
  {
   "cell_type": "code",
   "execution_count": 7,
   "id": "aba81bcc-1c9d-4929-bd86-618da0b48266",
   "metadata": {},
   "outputs": [
    {
     "name": "stdout",
     "output_type": "stream",
     "text": [
      "Title: The Hitchhiker's Guide to the Galaxy\n",
      "Author: Douglas Adams\n",
      "Published Year: 1979\n"
     ]
    }
   ],
   "source": [
    "#13\n",
    "class Book:\n",
    "  def __init__(self, title, author, published_year):  # Constructor to initialize attributes\n",
    "    self.title = title\n",
    "    self.author = author\n",
    "    self.published_year = published_year\n",
    "\n",
    "  def display_details(self):\n",
    "    \"\"\"Displays book title, author, and published year in a formatted string.\"\"\"\n",
    "    print(f\"Title: {self.title}\\nAuthor: {self.author}\\nPublished Year: {self.published_year}\")\n",
    "\n",
    "# Example usage:\n",
    "book1 = Book(\"The Hitchhiker's Guide to the Galaxy\", \"Douglas Adams\", 1979)\n",
    "book1.display_details()\n",
    "\n",
    "# Output:\n",
    "# Title: The Hitchhiker's Guide to the Galaxy\n",
    "# Author: Douglas Adams\n",
    "# Published Year: 1979\n"
   ]
  },
  {
   "cell_type": "markdown",
   "id": "52a5afee-9651-4455-b88e-363dd2485ab1",
   "metadata": {},
   "source": [
    "#14\n",
    "Constructors (__init__):\n",
    "\n",
    "Purpose: Used for initializing an object's attributes (variables) when a new instance (object) of the class is created.\n",
    "Automatic Call: Invoked automatically whenever you create a new object using the class name and parentheses (e.g., my_object = MyClass()).\n",
    "Arguments:\n",
    "Always includes self (referring to the current object) as the first argument.\n",
    "Can have additional arguments to receive values during object creation and initialize attributes accordingly.\n",
    "Return Type: Constructors don't explicitly return a value; their purpose is to initialize the object itself.\n",
    "Regular Methods:\n",
    "\n",
    "Purpose: Define operations or behaviors that the object can perform. These can include calculations, data manipulation, interaction with other objects, etc.\n",
    "Call: Invoked explicitly on an object using dot notation (e.g., object_name.method_name()).\n",
    "Arguments: Can have any number of arguments besides self, depending on the method's functionality.\n",
    "Return Type: Can return a value, modify the object's state, or perform other actions based on the method's purpose."
   ]
  },
  {
   "cell_type": "markdown",
   "id": "47ea25c3-b40a-4428-b7f6-e7fea76683d7",
   "metadata": {},
   "source": [
    "#15\n",
    "The self parameter within a constructor is crucial for initializing the object's instance variables (attributes) because it allows you to:\n",
    "\n",
    "Access Attributes: Inside the constructor, you can use self to access the object's attributes (e.g., self.name, self.age).\n",
    "Assign Values: You can then assign the values received through the constructor's arguments (other than self) to the corresponding attributes (e.g., self.name = name, self.age = age).\n",
    "This way, the self parameter creates a bridge between the arguments passed when creating the object and the object's internal state."
   ]
  },
  {
   "cell_type": "code",
   "execution_count": 9,
   "id": "84405291-c357-4c6e-baf4-f989a73fe3a6",
   "metadata": {},
   "outputs": [],
   "source": [
    "#16\n",
    "class Singleton:\n",
    "  _instance = None  # Static variable to hold the single instance\n",
    "\n",
    "  def __init__(self):\n",
    "    if Singleton._instance is not None:\n",
    "      raise Exception(\"Singleton already created! Cannot create multiple instances.\")\n",
    "    Singleton._instance = self  # Assign the created instance to the static variable\n",
    "\n",
    "  # Other methods...\n",
    "\n",
    "# Attempting to create multiple instances will raise an exception:\n",
    "instance1 = Singleton()\n",
    "instance2 = Singleton()  # This will raise an exception\n"
   ]
  },
  {
   "cell_type": "code",
   "execution_count": 10,
   "id": "e3e86fc8-4d2a-4e46-af9a-65ef384e7ee2",
   "metadata": {},
   "outputs": [
    {
     "name": "stdout",
     "output_type": "stream",
     "text": [
      "['Math', 'Science', 'English']\n"
     ]
    }
   ],
   "source": [
    "#17\n",
    "class Student:\n",
    "  def __init__(self, subjects):  # Constructor with a list of subjects\n",
    "    self.subjects = subjects\n",
    "\n",
    "# Example usage:\n",
    "subjects = [\"Math\", \"Science\", \"English\"]\n",
    "student1 = Student(subjects)\n",
    "print(student1.subjects)  # Output: ['Math', 'Science', 'English']\n"
   ]
  },
  {
   "cell_type": "code",
   "execution_count": 11,
   "id": "af0e7d4c-811b-4df5-85d3-06781b6b2009",
   "metadata": {},
   "outputs": [],
   "source": [
    "#18\n",
    "class FileHandler:\n",
    "  def __init__(self, filename):\n",
    "    self.file = open(filename, \"w\")  # Open the file in constructor\n",
    "\n",
    "  def __del__(self):\n",
    "    self.file.close()  # Close the file in destructor (may not run before garbage collection)\n",
    "\n",
    "# Example usage with potential issue:\n",
    "handler = FileHandler(\"data.txt\")\n",
    "# Do something with the file handler\n",
    "del handler  # May not call __del__ immediately\n"
   ]
  },
  {
   "cell_type": "markdown",
   "id": "e1f416f6-4e48-4f1d-b905-1f83f02c4d03",
   "metadata": {},
   "source": [
    "#19\n",
    "Python doesn't directly support constructor chaining like some other languages (e.g., C++). However, you can achieve a similar effect by calling one constructor from another constructor within the same class hierarchy (inheritance).\n",
    "\n",
    "Purpose:\n",
    "\n",
    "Code Reuse: When you have a base class with a constructor that initializes common attributes, you can avoid code duplication by calling that constructor from the derived class's constructor.\n",
    "Orderly Initialization: Ensures that base class initialization happens first."
   ]
  },
  {
   "cell_type": "code",
   "execution_count": 12,
   "id": "3ac6bda6-f6d2-4f4e-9c36-aa25594632e5",
   "metadata": {},
   "outputs": [
    {
     "name": "stdout",
     "output_type": "stream",
     "text": [
      "Make: Ford\n",
      "Model: Mustang\n",
      "Make: Unknown\n",
      "Model: Unknown\n"
     ]
    }
   ],
   "source": [
    "#20\n",
    "class Car:\n",
    "  def __init__(self, make=\"Unknown\", model=\"Unknown\"):  # Default constructor\n",
    "    self.make = make\n",
    "    self.model = model\n",
    "\n",
    "  def display_info(self):\n",
    "    \"\"\"Displays car make and model information.\"\"\"\n",
    "    print(f\"Make: {self.make}\\nModel: {self.model}\")\n",
    "\n",
    "# Example usage:\n",
    "car1 = Car(\"Ford\", \"Mustang\")\n",
    "car2 = Car()  # Uses default values for make and model\n",
    "\n",
    "car1.display_info()\n",
    "# Output:\n",
    "# Make: Ford\n",
    "# Model: Mustang\n",
    "\n",
    "car2.display_info()\n",
    "# Output:\n",
    "# Make: Unknown\n",
    "# Model: Unknown\n"
   ]
  },
  {
   "cell_type": "markdown",
   "id": "31c24dc2-e4e4-44e6-a044-eb07891d36b2",
   "metadata": {},
   "source": [
    "#1\n",
    "Inheritance is a fundamental concept in object-oriented programming (OOP) that allows you to create new classes (child classes) that inherit properties and behaviors from existing classes (parent classes). This promotes code reuse, reduces redundancy, and helps model real-world relationships between entities."
   ]
  },
  {
   "cell_type": "markdown",
   "id": "3d28bc0c-2072-4edc-995a-034908d8364a",
   "metadata": {},
   "source": [
    "#2\n",
    "Single Inheritance:\n",
    "\n",
    "A child class inherits from only one parent class.\n",
    "This is the most common and recommended approach in Python due to its simplicity and clarity.\n",
    "\n",
    "Multiple Inheritance:\n",
    "\n",
    "A child class inherits from multiple parent classes.\n",
    "Can be more complex to manage due to potential ambiguity (the \"diamond problem\"). Use it with caution."
   ]
  },
  {
   "cell_type": "code",
   "execution_count": 13,
   "id": "a2013d06-cbc9-49fc-a0aa-42ab5f508cee",
   "metadata": {},
   "outputs": [
    {
     "name": "stdout",
     "output_type": "stream",
     "text": [
      "Blue 180 Honda\n"
     ]
    }
   ],
   "source": [
    "#3\n",
    "class Vehicle:\n",
    "    def __init__(self, color, speed):\n",
    "        self.color = color\n",
    "        self.speed = speed\n",
    "\n",
    "class Car(Vehicle):\n",
    "    def __init__(self, color, speed, brand):\n",
    "        super().__init__(color, speed)\n",
    "        self.brand = brand\n",
    "\n",
    "car1 = Car(\"Blue\", 180, \"Honda\")\n",
    "print(car1.color, car1.speed, car1.brand)  # Output: Blue 180 Honda\n",
    "\n"
   ]
  },
  {
   "cell_type": "markdown",
   "id": "743087ac-c0bc-45ce-bae6-810252cb5190",
   "metadata": {},
   "source": [
    "#4\n",
    "Method overriding occurs when a child class redefines a method inherited from its parent class. This allows the child class to provide its own specialized implementation of the method while still retaining the functionality of the parent class method."
   ]
  },
  {
   "cell_type": "code",
   "execution_count": 14,
   "id": "528bb48c-5307-4f92-b176-c0530a58616c",
   "metadata": {},
   "outputs": [
    {
     "name": "stdout",
     "output_type": "stream",
     "text": [
      "Color: Red, Model: Civic\n"
     ]
    }
   ],
   "source": [
    "#5\n",
    "class Vehicle:\n",
    "    def __init__(self, color):\n",
    "        self.color = color\n",
    "\n",
    "    def get_color(self):\n",
    "        return self.color\n",
    "\n",
    "class Car(Vehicle):\n",
    "    def __init__(self, color, model):\n",
    "        super().__init__(color)  # Call parent constructor (optional for attributes)\n",
    "        self.model = model\n",
    "\n",
    "    def display_info(self):\n",
    "        print(f\"Color: {self.color}, Model: {self.model}\")  # Access both parent and child attributes\n",
    "\n",
    "car1 = Car(\"Red\", \"Civic\")\n",
    "car1.display_info()  # Output: Color: Red, Model: Civic\n"
   ]
  },
  {
   "cell_type": "code",
   "execution_count": 15,
   "id": "254bcffe-bab7-406c-aff7-44bf02bed5ef",
   "metadata": {},
   "outputs": [
    {
     "name": "stdout",
     "output_type": "stream",
     "text": [
      "Fido (the dog) barks!\n"
     ]
    }
   ],
   "source": [
    "#6\n",
    "class Animal:\n",
    "    def __init__(self, name):\n",
    "        self.name = name\n",
    "\n",
    "    def speak(self):\n",
    "        print(f\"{self.name} makes a generic animal sound\")\n",
    "\n",
    "class Dog(Animal):\n",
    "    def __init__(self, name, breed):\n",
    "        super().__init__(name)  # Call parent constructor to initialize name\n",
    "        self.breed = breed\n",
    "\n",
    "    def speak(self):\n",
    "        print(f\"{self.name} (the dog) barks!\")\n",
    "\n",
    "        # Optionally call parent's speak() for combined behavior (if desired)\n",
    "        # super().speak()  # Uncomment to include parent's generic sound\n",
    "\n",
    "dog1 = Dog(\"Fido\", \"Labrador\")\n",
    "dog1.speak()  # Output: Fido (the dog) barks!\n"
   ]
  },
  {
   "cell_type": "code",
   "execution_count": 16,
   "id": "8c606dc8-4d13-45ab-9b93-39b417145de2",
   "metadata": {},
   "outputs": [
    {
     "name": "stdout",
     "output_type": "stream",
     "text": [
      "Fluffy makes a generic animal sound\n"
     ]
    }
   ],
   "source": [
    "#7\n",
    "class Animal:\n",
    "    def __init__(self, name):\n",
    "        self.name = name\n",
    "\n",
    "    def speak(self):\n",
    "        print(f\"{self.name} makes a generic animal sound\")\n",
    "\n",
    "class Dog(Animal):\n",
    "    def speak(self):\n",
    "        print(f\"{self.name} (the dog) barks!\")\n",
    "\n",
    "class Cat(Animal):\n",
    "    def speak(self):\n",
    "        print(f\"{self.name} (the cat) meows!\")\n",
    "\n",
    "animal1 = Animal(\"Fluffy\")\n",
    "animal1.speak()  # Output:\n"
   ]
  },
  {
   "cell_type": "code",
   "execution_count": 17,
   "id": "d12f7cca-2852-426f-b36b-c041e3fa6d4f",
   "metadata": {},
   "outputs": [
    {
     "name": "stdout",
     "output_type": "stream",
     "text": [
      "Woof!\n",
      "Meow!\n"
     ]
    }
   ],
   "source": [
    "#8\n",
    "class Animal:\n",
    "    def speak(self):\n",
    "        pass\n",
    "\n",
    "class Dog(Animal):\n",
    "    def speak(self):\n",
    "        print(\"Woof!\")\n",
    "\n",
    "class Cat(Animal):\n",
    "    def speak(self):\n",
    "        print(\"Meow!\")\n",
    "\n",
    "def make_animal_speak(animal):\n",
    "    if isinstance(animal, Animal):\n",
    "        animal.speak()  # Valid for Animal, Dog, or Cat objects\n",
    "\n",
    "dog1 = Dog()\n",
    "cat1 = Cat()\n",
    "make_animal_speak(dog1)  # Output: Woof!\n",
    "make_animal_speak(cat1)  # Output: Meow!\n"
   ]
  },
  {
   "cell_type": "code",
   "execution_count": 18,
   "id": "c1e75f54-1589-48a3-9be5-3962a2635054",
   "metadata": {},
   "outputs": [
    {
     "name": "stdout",
     "output_type": "stream",
     "text": [
      "True\n",
      "False\n",
      "True\n"
     ]
    }
   ],
   "source": [
    "#9\n",
    "class Animal:\n",
    "    pass\n",
    "\n",
    "class Dog(Animal):\n",
    "    pass\n",
    "\n",
    "class Cat(Animal):\n",
    "    pass\n",
    "\n",
    "print(issubclass(Dog, Animal))  # True\n",
    "print(issubclass(Animal, Dog))  # False\n",
    "print(issubclass(Cat, object))  # True (all classes inherit from object)\n"
   ]
  },
  {
   "cell_type": "code",
   "execution_count": 19,
   "id": "78c0d668-715b-430a-b12c-6633bfb007b0",
   "metadata": {},
   "outputs": [
    {
     "name": "stdout",
     "output_type": "stream",
     "text": [
      "Red 5\n"
     ]
    }
   ],
   "source": [
    "#10\n",
    "class Shape:\n",
    "    def __init__(self, color):\n",
    "        self.color = color\n",
    "\n",
    "class Circle(Shape):\n",
    "    def __init__(self, color, radius):\n",
    "        super().__init__(color)  # Call parent constructor for color\n",
    "        self.radius = radius\n",
    "\n",
    "circle1 = Circle(\"Red\", 5)\n",
    "print(circle1.color, circle1.radius)  # Output: Red 5\n"
   ]
  },
  {
   "cell_type": "code",
   "execution_count": 20,
   "id": "e82d7fd3-06f2-4222-b9e8-ff61ed957462",
   "metadata": {},
   "outputs": [
    {
     "name": "stdout",
     "output_type": "stream",
     "text": [
      "Circle area: 78.53975\n",
      "Rectangle area: 24\n"
     ]
    }
   ],
   "source": [
    "#11\n",
    "class Shape:\n",
    "  \"\"\"Abstract base class representing a generic shape.\"\"\"\n",
    "\n",
    "  def __init__(self):\n",
    "    pass\n",
    "\n",
    "  def area(self):\n",
    "    \"\"\"Calculates and returns the area of the shape.\n",
    "\n",
    "    This method should be overridden by subclasses to provide specific area calculation logic.\n",
    "    Raises a NotImplementedError by default.\n",
    "    \"\"\"\n",
    "    raise NotImplementedError(\"Subclasses must implement the area() method\")\n",
    "\n",
    "class Circle(Shape):\n",
    "  \"\"\"Circle class that inherits from Shape.\"\"\"\n",
    "\n",
    "  def __init__(self, radius):\n",
    "    super().__init__()  # Call parent constructor\n",
    "    self.radius = radius\n",
    "\n",
    "  def area(self):\n",
    "    \"\"\"Calculates the area of a circle.\"\"\"\n",
    "    return 3.14159 * self.radius * self.radius\n",
    "\n",
    "class Rectangle(Shape):\n",
    "  \"\"\"Rectangle class that inherits from Shape.\"\"\"\n",
    "\n",
    "  def __init__(self, length, width):\n",
    "    super().__init__()  # Call parent constructor\n",
    "    self.length = length\n",
    "    self.width = width\n",
    "\n",
    "  def area(self):\n",
    "    \"\"\"Calculates the area of a rectangle.\"\"\"\n",
    "    return self.length * self.width\n",
    "\n",
    "# Example usage\n",
    "circle = Circle(5)\n",
    "rectangle = Rectangle(4, 6)\n",
    "\n",
    "print(f\"Circle area: {circle.area()}\")\n",
    "print(f\"Rectangle area: {rectangle.area()}\")\n"
   ]
  },
  {
   "cell_type": "code",
   "execution_count": 21,
   "id": "4ebf364f-5719-48ba-af71-09b24cff861c",
   "metadata": {},
   "outputs": [],
   "source": [
    "#12\n",
    "from abc import ABC, abstractmethod\n",
    "\n",
    "class Shape(ABC):\n",
    "  \"\"\"Abstract base class representing a generic shape.\"\"\"\n",
    "\n",
    "  @abstractmethod\n",
    "  def area(self):\n",
    "    \"\"\"Calculates and returns the area of the shape.\n",
    "\n",
    "    This method must be implemented by subclasses.\n",
    "    \"\"\"\n",
    "    pass\n",
    "\n",
    "# ... (rest of the code from section 11)\n"
   ]
  },
  {
   "cell_type": "code",
   "execution_count": 24,
   "id": "11ec92b2-ab32-495c-9736-a34c3d87e257",
   "metadata": {},
   "outputs": [],
   "source": [
    "#13\n",
    "class Shape:\n",
    "  \"\"\"Abstract base class representing a generic shape.\"\"\"\n",
    "\n",
    "  def __init__(self):\n",
    "    self._width = None  # Use private variable prefix (`_`)\n",
    "    self._height = None\n",
    "\n",
    "  @property\n",
    "  def width(self):\n",
    "    \"\"\"Getter for width attribute (read-only).\n",
    "\n",
    "    Raises an AttributeError if attempted to set.\n",
    "    \"\"\"\n",
    "    return self._width\n",
    "\n",
    "  @width.setter\n",
    "  def width(self, value):\n",
    "    \"\"\"Raises an AttributeError to prevent setting width.\"\"\"\n",
    "    raise AttributeError(\"Cannot modify width attribute\")\n",
    "\n",
    "# ... (rest of the code from section 11 or 12)\n",
    "class Shape(ABC):\n",
    "  \"\"\"Abstract base class representing a generic shape (final).\"\"\"\n",
    "\n",
    "  # ... (rest of the class definition from section 11 or 12)\n",
    "\n",
    "  def __init__(self):\n",
    "    pass  # No need to initialize attributes here\n",
    "\n",
    "class ImprovedRectangle(Shape):\n",
    "  \"\"\"Rectangle class that inherits from the final Shape class (cannot be further subclassed).\"\"\"\n",
    "\n",
    "  def __init__(self, length, width):\n",
    "    self.length = length\n",
    "    self.width = width\n",
    "\n",
    "  # ... (area() method definition)\n"
   ]
  },
  {
   "cell_type": "code",
   "execution_count": 25,
   "id": "8a206732-5914-4d7f-8d5e-4ea030bb5efc",
   "metadata": {},
   "outputs": [
    {
     "name": "stdout",
     "output_type": "stream",
     "text": [
      "Employee: Alice (Salary: $50000)\n",
      "Manager: Bob (Salary: $75000, Department: Engineering)\n"
     ]
    }
   ],
   "source": [
    "#14\n",
    "class Employee:\n",
    "  \"\"\"Base class representing an employee.\"\"\"\n",
    "\n",
    "  def __init__(self, name, salary):\n",
    "    self.name = name\n",
    "    self.salary = salary\n",
    "\n",
    "  def __str__(self):\n",
    "    \"\"\"Provides a string representation of the employee.\"\"\"\n",
    "    return f\"Employee: {self.name} (Salary: ${self.salary})\"\n",
    "\n",
    "class Manager(Employee):\n",
    "  \"\"\"Manager class that inherits from Employee and adds a department attribute.\"\"\"\n",
    "\n",
    "  def __init__(self, name, salary, department):\n",
    "    super().__init__(name, salary)  # Call parent constructor\n",
    "    self.department = department\n",
    "\n",
    "  def __str__(self):\n",
    "    \"\"\"Provides a string representation of the manager, including department.\"\"\"\n",
    "    return f\"Manager: {self.name} (Salary: ${self.salary}, Department: {self.department})\"\n",
    "\n",
    "# Example usage\n",
    "employee1 = Employee(\"Alice\", 50000)\n",
    "manager1 = Manager(\"Bob\", 75000, \"Engineering\")\n",
    "\n",
    "print(employee1)\n",
    "print(manager1)\n"
   ]
  },
  {
   "cell_type": "markdown",
   "id": "f0d49f1f-46ed-4ed1-85e7-0cff4654e264",
   "metadata": {},
   "source": [
    "#15\n",
    "Method Overloading (not directly supported in Python):\n",
    "Refers to having multiple methods with the same name but different argument lists (number, types, or order of arguments).\n",
    "Python doesn't natively support this, but techniques like using default arguments or function overloading in decorator libraries can simulate it.\n",
    "Method Overriding (common in inheritance):\n",
    "Occurs when a subclass redefines a method inherited from a parent class with the same name and arguments.\n",
    "The subclass's method definition takes precedence when the method is called on an object of the subclass.\n",
    "In the example above, the __str__() method in Manager overrides the one in Employee to provide a more specific representation for managers."
   ]
  },
  {
   "cell_type": "markdown",
   "id": "0addec7e-b771-44e1-9cf0-e96a0284e7f7",
   "metadata": {},
   "source": [
    "#16\n",
    "The __init__() method (also called the constructor) is a special method in Python classes that is automatically invoked when an object of the class is created.\n",
    "Its primary purpose is to initialize the attributes of the object.\n",
    "In inheritance, it's crucial to call the parent class's __init__() method using super().__init__(arguments). This ensures that the inherited attributes are properly initialized before the subclass's __init__() code executes.\n",
    "In the Manager class example, super().__init__(name, salary) calls the Employee class's __init__() to initialize name and salary, and then self.department = department adds the specific attribute for managers."
   ]
  },
  {
   "cell_type": "code",
   "execution_count": 26,
   "id": "8196adda-2dd5-42e3-b5df-07d4bcb6be3a",
   "metadata": {},
   "outputs": [
    {
     "name": "stdout",
     "output_type": "stream",
     "text": [
      "The eagle soars majestically through the sky.\n",
      "The sparrow flits from branch to branch.\n"
     ]
    }
   ],
   "source": [
    "#17\n",
    "class Bird:\n",
    "  \"\"\"Base class representing a bird.\"\"\"\n",
    "\n",
    "  def __init__(self):\n",
    "    pass\n",
    "\n",
    "  def fly(self):\n",
    "    \"\"\"Provides a generic flying behavior for birds (can be overridden in subclasses).\"\"\"\n",
    "    print(\"The bird flaps its wings and takes flight.\")\n",
    "\n",
    "class Eagle(Bird):\n",
    "  \"\"\"Eagle class that inherits from Bird and has a specific flying behavior.\"\"\"\n",
    "\n",
    "  def fly(self):\n",
    "    \"\"\"Eagles have a powerful soaring flight.\"\"\"\n",
    "    print(\"The eagle soars majestically through the sky.\")\n",
    "\n",
    "class Sparrow(Bird):\n",
    "  \"\"\"Sparrow class that inherits from Bird and has a different flying behavior.\"\"\"\n",
    "\n",
    "  def fly(self):\n",
    "    \"\"\"Sparrows have a short, fluttering flight.\"\"\"\n",
    "    print(\"The sparrow flits from branch to branch.\")\n",
    "\n",
    "# Example usage\n",
    "eagle1 = Eagle()\n",
    "sparrow1 = Sparrow()\n",
    "\n",
    "eagle1.fly()  # Output: The eagle soars majestically through the sky.\n",
    "sparrow1.fly()  # Output: The sparrow flits from branch to branch.\n"
   ]
  },
  {
   "cell_type": "markdown",
   "id": "f4a19888-1183-4ad6-9f7a-2f53399180e0",
   "metadata": {},
   "source": [
    "#18\n",
    " Diamond Problem in Multiple Inheritance\n",
    "\n",
    "The diamond problem arises in multiple inheritance when a class inherits from two parent classes that both inherit from a common ancestor class. This creates ambiguity about which method implementation should be used when a method is called on an object of the inheriting class.\n",
    "\n",
    "Python avoids the diamond problem by using Method Resolution Order (MRO). MRO defines a linear order in which to search for methods when inheritance is involved. The leftmost class in the MRO has search priority. This ensures that there's a clear path to find the intended method implementation."
   ]
  },
  {
   "cell_type": "markdown",
   "id": "02dad4e1-3f8b-4efb-a49b-467e2786c618",
   "metadata": {},
   "source": [
    "#19\n",
    "\"is-a\" vs. \"has-a\" Relationships\n",
    "\n",
    "\"is-a\" (Inheritance): This relationship signifies that a subclass inherits properties and behaviors from a parent class, establishing a hierarchical structure. The subclass \"is a\" specialization of the parent class.\n",
    "Example: Eagle is a Bird (subclass inherits from parent class).\n",
    "\"has-a\" (Composition): This relationship indicates that a class has an instance (object) of another class as a member. It represents a containment or ownership relationship.\n",
    "Example: Car has an Engine (class has a member object of another class)."
   ]
  },
  {
   "cell_type": "code",
   "execution_count": 27,
   "id": "93722493-eae6-498c-aaf2-89bdc36749a9",
   "metadata": {},
   "outputs": [
    {
     "name": "stdout",
     "output_type": "stream",
     "text": [
      "Hello, my name is Alice.\n",
      "Alice is taking an exam in Computer Science.\n",
      "Hello, my name is Bob.\n",
      "Professor Bob is teaching Calculus.\n"
     ]
    }
   ],
   "source": [
    "#20\n",
    "class Person:\n",
    "  \"\"\"Base class representing a person.\"\"\"\n",
    "\n",
    "  def __init__(self, name):\n",
    "    self.name = name\n",
    "\n",
    "  def introduce(self):\n",
    "    \"\"\"Introduces the person by name.\"\"\"\n",
    "    print(f\"Hello, my name is {self.name}.\")\n",
    "\n",
    "class Student(Person):\n",
    "  \"\"\"Student class that inherits from Person and has additional attributes and methods.\"\"\"\n",
    "\n",
    "  def __init__(self, name, major):\n",
    "    super().__init__(name)  # Call parent constructor\n",
    "    self.major = major\n",
    "\n",
    "  def take_exam(self):\n",
    "    \"\"\"Simulates a student taking an exam.\"\"\"\n",
    "    print(f\"{self.name} is taking an exam in {self.major}.\")\n",
    "\n",
    "class Professor(Person):\n",
    "  \"\"\"Professor class that inherits from Person and has additional attributes and methods.\"\"\"\n",
    "\n",
    "  def __init__(self, name, department):\n",
    "    super().__init__(name)  # Call parent constructor\n",
    "    self.department = department\n",
    "\n",
    "  def teach_course(self, course_name):\n",
    "    \"\"\"Simulates a professor teaching a course.\"\"\"\n",
    "    print(f\"Professor {self.name} is teaching {course_name}.\")\n",
    "\n",
    "# Example usage\n",
    "student1 = Student(\"Alice\", \"Computer Science\")\n",
    "professor1 = Professor(\"Bob\", \"Mathematics\")\n",
    "\n",
    "student1.introduce()  # Output: Hello, my name is Alice.\n",
    "student1.take_exam()  # Output: Alice is taking an exam in Computer Science.\n",
    "\n",
    "professor1.introduce()  # Output: Hello, my name is Bob.\n",
    "professor1.teach_course(\"Calculus\")  # Output: Professor Bob is teaching Calculus.\n"
   ]
  },
  {
   "cell_type": "markdown",
   "id": "3407ff91-8309-4208-bbdf-963c272c073e",
   "metadata": {},
   "source": [
    "#1\n",
    "Encapsulation in Python:\n",
    "Encapsulation is one of the fundamental principles of object-oriented programming (OOP) and refers to bundling data (attributes) and methods (functions) that operate on the data into a single unit known as a class. In Python, encapsulation helps in hiding the internal state and implementation details of an object from the outside world."
   ]
  },
  {
   "cell_type": "markdown",
   "id": "568905f6-cff9-472c-92eb-9045413f6d7b",
   "metadata": {},
   "source": [
    "#2\n",
    "Key Principles of Encapsulation:\n",
    "\n",
    "Access Control: Encapsulation provides control over how the attributes and methods of a class are accessed from outside the class. This control is achieved through access specifiers like public, private, and protected.\n",
    "Data Hiding: Encapsulation hides the internal state of an object, allowing access only through well-defined interfaces (methods). This prevents direct modification of object attributes from outside the class."
   ]
  },
  {
   "cell_type": "code",
   "execution_count": 28,
   "id": "c808d6cd-81af-4cfe-a150-06e3bd79315a",
   "metadata": {},
   "outputs": [
    {
     "name": "stdout",
     "output_type": "stream",
     "text": [
      "Toyota\n",
      "30\n",
      "40\n"
     ]
    }
   ],
   "source": [
    "#3\n",
    "class Car:\n",
    "    def __init__(self, brand, mileage):\n",
    "        self.brand = brand  # Public attribute\n",
    "        self.__mileage = mileage  # Private attribute\n",
    "\n",
    "    def get_mileage(self):\n",
    "        return self.__mileage\n",
    "\n",
    "    def set_mileage(self, mileage):\n",
    "        if mileage >= 0:\n",
    "            self.__mileage = mileage\n",
    "\n",
    "# Creating an instance of Car\n",
    "my_car = Car(\"Toyota\", 30)\n",
    "\n",
    "# Accessing public attribute directly\n",
    "print(my_car.brand)  # Output: Toyota\n",
    "\n",
    "# Accessing private attribute using getter method\n",
    "print(my_car.get_mileage())  # Output: 30\n",
    "\n",
    "# Modifying private attribute using setter method\n",
    "my_car.set_mileage(40)\n",
    "print(my_car.get_mileage())  # Output: 40\n"
   ]
  },
  {
   "cell_type": "markdown",
   "id": "efd0bc52-8772-42f1-9770-6b15cafcd02c",
   "metadata": {},
   "source": [
    "#4\n",
    "Public, Private, and Protected Access Modifiers in Python:\n",
    "\n",
    "Public (+): Public members (attributes and methods) are accessible from outside the class without any restrictions.\n",
    "\n",
    "Private (-): Private members are accessible only within the class itself. In Python, private members are denoted by prefixing the attribute or method name with double underscores (__).\n",
    "\n",
    "Protected (#): Protected members are accessible within the same package and by subclasses. In Python, protected members are denoted by prefixing the attribute or method name with a single underscore (_)."
   ]
  },
  {
   "cell_type": "code",
   "execution_count": 29,
   "id": "0455e693-5dce-4680-9e9d-db87ea67cfad",
   "metadata": {},
   "outputs": [
    {
     "name": "stdout",
     "output_type": "stream",
     "text": [
      "John\n",
      "Alice\n"
     ]
    }
   ],
   "source": [
    "#5\n",
    "class Person:\n",
    "    def __init__(self, name):\n",
    "        self.__name = name\n",
    "\n",
    "    def get_name(self):\n",
    "        return self.__name\n",
    "\n",
    "    def set_name(self, name):\n",
    "        self.__name = name\n",
    "\n",
    "# Creating a Person instance\n",
    "person = Person(\"John\")\n",
    "print(person.get_name())  # Output: John\n",
    "person.set_name(\"Alice\")\n",
    "print(person.get_name())  # Output: Alice\n"
   ]
  },
  {
   "cell_type": "code",
   "execution_count": 30,
   "id": "e5ce552d-8b69-4b9f-aae1-f2884ef88ba1",
   "metadata": {},
   "outputs": [
    {
     "name": "stdout",
     "output_type": "stream",
     "text": [
      "5\n",
      "10\n"
     ]
    }
   ],
   "source": [
    "#6\n",
    "# Example of getter and setter methods\n",
    "class Circle:\n",
    "    def __init__(self, radius):\n",
    "        self.__radius = radius\n",
    "\n",
    "    def get_radius(self):\n",
    "        return self.__radius\n",
    "\n",
    "    def set_radius(self, radius):\n",
    "        if radius > 0:\n",
    "            self.__radius = radius\n",
    "\n",
    "# Creating a Circle instance\n",
    "circle = Circle(5)\n",
    "print(circle.get_radius())  # Output: 5\n",
    "circle.set_radius(10)\n",
    "print(circle.get_radius())  # Output: 10\n"
   ]
  },
  {
   "cell_type": "markdown",
   "id": "b4fefc0d-9807-4e22-b2ee-6be7f8b9dd77",
   "metadata": {},
   "source": [
    "#7\n",
    "Name mangling is a technique used in Python to make class members private by adding a prefix __ to their names. This affects encapsulation by making it difficult for external code to access or modify these members directly."
   ]
  },
  {
   "cell_type": "code",
   "execution_count": 31,
   "id": "22f303f5-262c-42f9-b0a1-ce020455958f",
   "metadata": {},
   "outputs": [
    {
     "name": "stdout",
     "output_type": "stream",
     "text": [
      "Deposit successful. New balance: 1500\n",
      "Withdrawal successful. New balance: 1300\n"
     ]
    }
   ],
   "source": [
    "#8\n",
    "class BankAccount:\n",
    "    def __init__(self, account_number, initial_balance=0):\n",
    "        self.__account_number = account_number\n",
    "        self.__balance = initial_balance\n",
    "\n",
    "    def deposit(self, amount):\n",
    "        if amount > 0:\n",
    "            self.__balance += amount\n",
    "            print(f\"Deposit successful. New balance: {self.__balance}\")\n",
    "\n",
    "    def withdraw(self, amount):\n",
    "        if 0 < amount <= self.__balance:\n",
    "            self.__balance -= amount\n",
    "            print(f\"Withdrawal successful. New balance: {self.__balance}\")\n",
    "        else:\n",
    "            print(\"Insufficient funds.\")\n",
    "\n",
    "# Creating a BankAccount instance\n",
    "acc = BankAccount(\"1234567890\", 1000)\n",
    "acc.deposit(500)  # Output: Deposit successful. New balance: 1500\n",
    "acc.withdraw(200)  # Output: Withdrawal successful. New balance: 1300\n"
   ]
  },
  {
   "cell_type": "markdown",
   "id": "a63eca31-1ade-47b1-a0fa-553e770bfbb8",
   "metadata": {},
   "source": [
    "#9\n",
    "Advantages of Encapsulation:\n",
    "\n",
    "Code Maintainability: Encapsulation helps in organizing code into logical units (classes), making it easier to maintain, debug, and modify.\n",
    "Security: By hiding internal details, encapsulation prevents unauthorized access and accidental modifications, enhancing security."
   ]
  },
  {
   "cell_type": "code",
   "execution_count": 32,
   "id": "1c0216d7-01f8-4c91-8a0a-625c0bb355fa",
   "metadata": {},
   "outputs": [
    {
     "name": "stdout",
     "output_type": "stream",
     "text": [
      "42\n"
     ]
    }
   ],
   "source": [
    "#10\n",
    "# Example demonstrating name mangling for private attributes\n",
    "class MyClass:\n",
    "    def __init__(self):\n",
    "        self.__private_attr = 42\n",
    "\n",
    "obj = MyClass()\n",
    "# Accessing private attribute using name mangling\n",
    "print(obj._MyClass__private_attr)  # Output: 42\n"
   ]
  },
  {
   "cell_type": "code",
   "execution_count": 33,
   "id": "a411cc91-8df1-477b-8745-615751798069",
   "metadata": {},
   "outputs": [],
   "source": [
    "#11\n",
    "class Person:\n",
    "    def __init__(self, name, age):\n",
    "        self.__name = name\n",
    "        self.__age = age\n",
    "\n",
    "    def get_name(self):\n",
    "        return self.__name\n",
    "\n",
    "    def get_age(self):\n",
    "        return self.__age\n",
    "\n",
    "class Student(Person):\n",
    "    def __init__(self, name, age, student_id):\n",
    "        super().__init__(name, age)\n",
    "        self.__student_id = student_id\n",
    "\n",
    "    def get_student_id(self):\n",
    "        return self.__student_id\n",
    "\n",
    "class Teacher(Person):\n",
    "    def __init__(self, name, age, teacher_id):\n",
    "        super().__init__(name, age)\n",
    "        self.__teacher_id = teacher_id\n",
    "\n",
    "    def get_teacher_id(self):\n",
    "        return self.__teacher_id\n",
    "\n",
    "class Course:\n",
    "    def __init__(self, course_name, course_code):\n",
    "        self.__course_name = course_name\n",
    "        self.__course_code = course_code\n",
    "\n",
    "    def get_course_name(self):\n",
    "        return self.__course_name\n",
    "\n",
    "    def get_course_code(self):\n",
    "        return self.__course_code\n"
   ]
  },
  {
   "cell_type": "markdown",
   "id": "7b00b3ae-5373-4a54-85ab-f7dc2c3fce59",
   "metadata": {},
   "source": [
    "#12\n",
    "Property Decorators and Encapsulation:\n",
    "Property decorators (@property, @<attribute_name>.setter, @<attribute_name>.deleter) in Python provide a more elegant way to implement getter, setter, and deleter methods for class attributes. They are related to encapsulation because they allow controlled access to class attributes while providing a clean syntax."
   ]
  },
  {
   "cell_type": "markdown",
   "id": "1d20e8ea-7c88-4188-aec3-d599ed050456",
   "metadata": {},
   "source": [
    "#13\n",
    "Data hiding is a concept in object-oriented programming where the internal details or state of an object are hidden from the outside world. It is achieved by making attributes or methods private, so they cannot be directly accessed from outside the class.\n",
    "\n",
    "Data hiding is crucial in encapsulation because it helps in maintaining the integrity of an object's state and prevents direct modification of sensitive data. It also allows classes to define how their data should be accessed and modified, promoting better code organization and reducing potential bugs due to unintended changes."
   ]
  },
  {
   "cell_type": "code",
   "execution_count": 34,
   "id": "9e43c051-ad00-4008-903e-b6764452d98a",
   "metadata": {},
   "outputs": [
    {
     "name": "stdout",
     "output_type": "stream",
     "text": [
      "Yearly bonus: $5000.0\n"
     ]
    }
   ],
   "source": [
    "#14\n",
    "class Employee:\n",
    "    def __init__(self, employee_id, salary):\n",
    "        self.__employee_id = employee_id  # Private attribute\n",
    "        self.__salary = salary  # Private attribute\n",
    "\n",
    "    def calculate_yearly_bonus(self, percentage):\n",
    "        bonus = (percentage / 100) * self.__salary\n",
    "        return bonus\n",
    "\n",
    "# Usage\n",
    "emp = Employee(101, 50000)\n",
    "bonus_amount = emp.calculate_yearly_bonus(10)  # 10% bonus\n",
    "print(f\"Yearly bonus: ${bonus_amount}\")\n"
   ]
  },
  {
   "cell_type": "markdown",
   "id": "1bd85157-3ebd-49db-91ce-f3355cb132ee",
   "metadata": {},
   "source": [
    "#15\n",
    "Accessors (getter methods) and mutators (setter methods) are used in encapsulation to control access to private attributes of a class.\n",
    "\n",
    "Accessors provide read-only access to private attributes, allowing external code to retrieve the value without directly modifying it.\n",
    "Mutators provide controlled write access to private attributes, enabling external code to modify the value based on defined conditions or constraints.\n",
    "By using accessors and mutators, developers can enforce rules and validations on how attributes are accessed and modified, thereby maintaining control over the object's state and ensuring data integrity."
   ]
  },
  {
   "cell_type": "markdown",
   "id": "4a14f413-8657-4386-842f-c485f21311c6",
   "metadata": {},
   "source": [
    "#16\n",
    "Some potential drawbacks of using encapsulation in Python include:\n",
    "\n",
    "Increased complexity: Encapsulation can lead to more complex code, especially when dealing with numerous getter and setter methods.\n",
    "Overhead: Accessing attributes through methods (getters and setters) incurs a slight performance overhead compared to direct attribute access.\n",
    "Limited access: Encapsulation can restrict direct access to attributes, which may be necessary in certain scenarios but can also lead to additional workarounds or complexities."
   ]
  },
  {
   "cell_type": "code",
   "execution_count": 35,
   "id": "a7674dbe-75a0-49f1-a946-52784294f66a",
   "metadata": {},
   "outputs": [
    {
     "name": "stdout",
     "output_type": "stream",
     "text": [
      "Python Programming by John Doe borrowed successfully.\n",
      "Python Programming by John Doe returned.\n"
     ]
    }
   ],
   "source": [
    "#17\n",
    "class Book:\n",
    "    def __init__(self, title, author, available=True):\n",
    "        self.__title = title\n",
    "        self.__author = author\n",
    "        self.__available = available\n",
    "\n",
    "    def borrow_book(self):\n",
    "        if self.__available:\n",
    "            self.__available = False\n",
    "            print(f\"{self.__title} by {self.__author} borrowed successfully.\")\n",
    "        else:\n",
    "            print(\"Book is not available for borrowing.\")\n",
    "\n",
    "    def return_book(self):\n",
    "        if not self.__available:\n",
    "            self.__available = True\n",
    "            print(f\"{self.__title} by {self.__author} returned.\")\n",
    "        else:\n",
    "            print(\"Book is already available.\")\n",
    "\n",
    "# Usage\n",
    "book1 = Book(\"Python Programming\", \"John Doe\")\n",
    "book1.borrow_book()\n",
    "book1.return_book()\n"
   ]
  },
  {
   "cell_type": "markdown",
   "id": "97627290-f3df-45e3-8ddf-7efbec9de8de",
   "metadata": {},
   "source": [
    "#18\n",
    "Encapsulation enhances code reusability and modularity in Python programs by:\n",
    "\n",
    "Encapsulation hides the internal details of a class, allowing changes to be made to the implementation without affecting external code that uses the class.\n",
    "It promotes the principle of information hiding, where the internal state of objects is protected and only accessible through controlled interfaces (methods).\n",
    "Encapsulation encourages modular design by dividing code into smaller, manageable units (classes) with well-defined boundaries and responsibilities.\n",
    "Reusability is improved because encapsulated classes can be reused in different parts of the program or in other projects without requiring significant modifications."
   ]
  },
  {
   "cell_type": "markdown",
   "id": "7827c136-b1bf-4a81-9806-451e58873b59",
   "metadata": {},
   "source": [
    "#19\n",
    "Information hiding in encapsulation refers to the practice of concealing the internal details of a class or object and exposing only necessary interfaces to interact with it. It is essential in software development for several reasons:\n",
    "\n",
    "Abstraction: Information hiding allows developers to abstract away complex implementation details, focusing on essential functionalities and interfaces. This abstraction improves code readability and maintenance.\n",
    "Security: By hiding sensitive data and internal workings, encapsulation enhances security and prevents unauthorized access or modification of critical information.\n",
    "Modifiability: Encapsulation facilitates modular design, where changes to the internal implementation of a class do not impact external code that uses the class. This separation reduces code coupling and improves modifiability.\n",
    "Reusability: Encapsulation promotes code reusability by creating reusable components (classes) with well-defined interfaces. These components can be easily integrated into different parts of the software or used in other projects."
   ]
  },
  {
   "cell_type": "code",
   "execution_count": 36,
   "id": "5e21c303-38b8-4fb7-b857-f4bacf7b4b99",
   "metadata": {},
   "outputs": [
    {
     "name": "stdout",
     "output_type": "stream",
     "text": [
      "Name: John Doe, Address: 123 Main St, Contact: johndoe@example.com\n",
      "Name: John Doe, Address: 123 Main St, Contact: newemail@example.com\n"
     ]
    }
   ],
   "source": [
    "#20\n",
    "class Customer:\n",
    "    def __init__(self, name, address, contact_info):\n",
    "        self.__name = name  # Private attribute\n",
    "        self.__address = address  # Private attribute\n",
    "        self.__contact_info = contact_info  # Private attribute\n",
    "\n",
    "    def update_contact_info(self, new_contact):\n",
    "        self.__contact_info = new_contact\n",
    "\n",
    "    def get_customer_info(self):\n",
    "        return f\"Name: {self.__name}, Address: {self.__address}, Contact: {self.__contact_info}\"\n",
    "\n",
    "# Usage\n",
    "customer = Customer(\"John Doe\", \"123 Main St\", \"johndoe@example.com\")\n",
    "print(customer.get_customer_info())\n",
    "\n",
    "# Updating contact info\n",
    "customer.update_contact_info(\"newemail@example.com\")\n",
    "print(customer.get_customer_info())\n"
   ]
  },
  {
   "cell_type": "markdown",
   "id": "0ffff402-7a2b-4a79-a397-a4eb827e8a9e",
   "metadata": {},
   "source": [
    "#1\n",
    "Polymorphism in Python:\n",
    "Polymorphism in Python refers to the ability of different objects to respond to the same method or function in different ways. It allows objects of different classes to be treated as objects of a common superclass. This concept is closely related to object-oriented programming (OOP) because it enables code to be written that can work with objects of various classes, providing flexibility and code reuse."
   ]
  },
  {
   "cell_type": "markdown",
   "id": "a8197ec9-be8e-4c18-847d-9b80716d699e",
   "metadata": {},
   "source": [
    "#2\n",
    "Compile-time Polymorphism vs. Runtime Polymorphism:\n",
    "Compile-time polymorphism (also known as static polymorphism) is achieved through method overloading or operator overloading. In Python, method overloading is not directly supported due to its dynamic typing nature. Runtime polymorphism (also known as dynamic polymorphism) is achieved through method overriding, where a subclass provides a specific implementation of a method that is already defined in its superclass."
   ]
  },
  {
   "cell_type": "code",
   "execution_count": 37,
   "id": "4243af1c-0cc3-4dc6-8c23-1100fcb9aeac",
   "metadata": {},
   "outputs": [
    {
     "name": "stdout",
     "output_type": "stream",
     "text": [
      "Area of shape: 78.5\n",
      "Area of shape: 16\n",
      "Area of shape: 9.0\n"
     ]
    }
   ],
   "source": [
    "#3\n",
    "class Shape:\n",
    "    def calculate_area(self):\n",
    "        pass  # Placeholder method to be overridden in subclasses\n",
    "\n",
    "class Circle(Shape):\n",
    "    def __init__(self, radius):\n",
    "        self.radius = radius\n",
    "\n",
    "    def calculate_area(self):\n",
    "        return 3.14 * self.radius ** 2\n",
    "\n",
    "class Square(Shape):\n",
    "    def __init__(self, side_length):\n",
    "        self.side_length = side_length\n",
    "\n",
    "    def calculate_area(self):\n",
    "        return self.side_length ** 2\n",
    "\n",
    "class Triangle(Shape):\n",
    "    def __init__(self, base, height):\n",
    "        self.base = base\n",
    "        self.height = height\n",
    "\n",
    "    def calculate_area(self):\n",
    "        return 0.5 * self.base * self.height\n",
    "\n",
    "# Demonstrate polymorphism\n",
    "shapes = [Circle(5), Square(4), Triangle(3, 6)]\n",
    "for shape in shapes:\n",
    "    print(f\"Area of shape: {shape.calculate_area()}\")\n"
   ]
  },
  {
   "cell_type": "code",
   "execution_count": 38,
   "id": "c1fadf80-aabd-449a-b443-8f7e786b08b6",
   "metadata": {},
   "outputs": [
    {
     "name": "stdout",
     "output_type": "stream",
     "text": [
      "Child method\n"
     ]
    }
   ],
   "source": [
    "#4\n",
    "class Parent:\n",
    "    def show(self):\n",
    "        print(\"Parent method\")\n",
    "\n",
    "class Child(Parent):\n",
    "    def show(self):\n",
    "        print(\"Child method\")\n",
    "\n",
    "# Example of method overriding\n",
    "obj = Child()\n",
    "obj.show()  # Output: Child method\n"
   ]
  },
  {
   "cell_type": "code",
   "execution_count": 39,
   "id": "136b664d-f214-4a78-862c-897e901fcff8",
   "metadata": {},
   "outputs": [
    {
     "name": "stdout",
     "output_type": "stream",
     "text": [
      "Dog barks\n",
      "Cat meows\n",
      "5\n",
      "2\n"
     ]
    }
   ],
   "source": [
    "#5\n",
    "# Polymorphism\n",
    "class Animal:\n",
    "    def speak(self):\n",
    "        print(\"Animal speaks\")\n",
    "\n",
    "class Dog(Animal):\n",
    "    def speak(self):\n",
    "        print(\"Dog barks\")\n",
    "\n",
    "class Cat(Animal):\n",
    "    def speak(self):\n",
    "        print(\"Cat meows\")\n",
    "\n",
    "# Example of polymorphism\n",
    "animals = [Dog(), Cat()]\n",
    "for animal in animals:\n",
    "    animal.speak()  # Outputs vary based on object type\n",
    "\n",
    "# Method overloading (using default arguments)\n",
    "class MathOperations:\n",
    "    def add(self, a, b=0):\n",
    "        return a + b\n",
    "\n",
    "# Example of method overloading\n",
    "math = MathOperations()\n",
    "print(math.add(2, 3))  # Output: 5\n",
    "print(math.add(2))     # Output: 2 (default argument used)\n"
   ]
  },
  {
   "cell_type": "code",
   "execution_count": 40,
   "id": "26d18944-2c08-4237-b2e0-afad090abebb",
   "metadata": {},
   "outputs": [
    {
     "name": "stdout",
     "output_type": "stream",
     "text": [
      "Dog barks\n",
      "Cat meows\n",
      "5\n",
      "2\n"
     ]
    }
   ],
   "source": [
    "#6\n",
    "# Polymorphism\n",
    "class Animal:\n",
    "    def speak(self):\n",
    "        print(\"Animal speaks\")\n",
    "\n",
    "class Dog(Animal):\n",
    "    def speak(self):\n",
    "        print(\"Dog barks\")\n",
    "\n",
    "class Cat(Animal):\n",
    "    def speak(self):\n",
    "        print(\"Cat meows\")\n",
    "\n",
    "# Example of polymorphism\n",
    "animals = [Dog(), Cat()]\n",
    "for animal in animals:\n",
    "    animal.speak()  # Outputs vary based on object type\n",
    "\n",
    "# Method overloading (using default arguments)\n",
    "class MathOperations:\n",
    "    def add(self, a, b=0):\n",
    "        return a + b\n",
    "\n",
    "# Example of method overloading\n",
    "math = MathOperations()\n",
    "print(math.add(2, 3))  # Output: 5\n",
    "print(math.add(2))     # Output: 2 (default argument used)\n"
   ]
  },
  {
   "cell_type": "code",
   "execution_count": 41,
   "id": "468461e8-1633-4dfe-83ba-4fbff431ef75",
   "metadata": {},
   "outputs": [
    {
     "name": "stdout",
     "output_type": "stream",
     "text": [
      "Dog barks\n",
      "Cat meows\n",
      "Bird chirps\n"
     ]
    }
   ],
   "source": [
    "#7\n",
    "class Animal:\n",
    "    def speak(self):\n",
    "        pass\n",
    "\n",
    "class Dog(Animal):\n",
    "    def speak(self):\n",
    "        print(\"Dog barks\")\n",
    "\n",
    "class Cat(Animal):\n",
    "    def speak(self):\n",
    "        print(\"Cat meows\")\n",
    "\n",
    "class Bird(Animal):\n",
    "    def speak(self):\n",
    "        print(\"Bird chirps\")\n",
    "\n",
    "# Polymorphism demonstration\n",
    "dog = Dog()\n",
    "cat = Cat()\n",
    "bird = Bird()\n",
    "\n",
    "dog.speak()  # Output: Dog barks\n",
    "cat.speak()  # Output: Cat meows\n",
    "bird.speak()  # Output: Bird chirps\n"
   ]
  },
  {
   "cell_type": "code",
   "execution_count": 42,
   "id": "74899022-3c58-4c20-bda4-174ca9c3b794",
   "metadata": {},
   "outputs": [
    {
     "name": "stdout",
     "output_type": "stream",
     "text": [
      "78.5\n"
     ]
    }
   ],
   "source": [
    "#8\n",
    "from abc import ABC, abstractmethod\n",
    "\n",
    "class Shape(ABC):\n",
    "    @abstractmethod\n",
    "    def calculate_area(self):\n",
    "        pass\n",
    "\n",
    "class Circle(Shape):\n",
    "    def __init__(self, radius):\n",
    "        self.radius = radius\n",
    "\n",
    "    def calculate_area(self):\n",
    "        return 3.14 * self.radius ** 2\n",
    "\n",
    "# Cannot instantiate abstract class\n",
    "# shape = Shape()  # This will raise an error\n",
    "\n",
    "# Create an instance of a concrete subclass\n",
    "circle = Circle(5)\n",
    "print(circle.calculate_area())  # Output: 78.5\n"
   ]
  },
  {
   "cell_type": "code",
   "execution_count": 43,
   "id": "55364e61-c700-45cc-b19c-1f1d4ad5c099",
   "metadata": {},
   "outputs": [
    {
     "name": "stdout",
     "output_type": "stream",
     "text": [
      "Car started\n",
      "Bicycle started\n",
      "Boat started\n"
     ]
    }
   ],
   "source": [
    "#9\n",
    "class Vehicle:\n",
    "    def start(self):\n",
    "        pass\n",
    "\n",
    "class Car(Vehicle):\n",
    "    def start(self):\n",
    "        print(\"Car started\")\n",
    "\n",
    "class Bicycle(Vehicle):\n",
    "    def start(self):\n",
    "        print(\"Bicycle started\")\n",
    "\n",
    "class Boat(Vehicle):\n",
    "    def start(self):\n",
    "        print(\"Boat started\")\n",
    "\n",
    "# Polymorphic start method\n",
    "vehicles = [Car(), Bicycle(), Boat()]\n",
    "for vehicle in vehicles:\n",
    "    vehicle.start()\n"
   ]
  },
  {
   "cell_type": "markdown",
   "id": "eaac631a-c285-4644-9125-15b28674c36a",
   "metadata": {},
   "source": [
    "#10\n",
    "isinstance() and issubclass() in Polymorphism:\n",
    "isinstance(obj, class_or_tuple): Checks if an object is an instance of a class or a subclass thereof.\n",
    "issubclass(subclass, class_or_tuple): Checks if a class is a subclass of another class or a subclass thereof."
   ]
  },
  {
   "cell_type": "code",
   "execution_count": 44,
   "id": "26e61c5d-44d1-4ae6-afda-7bb5bee596bb",
   "metadata": {},
   "outputs": [
    {
     "name": "stdout",
     "output_type": "stream",
     "text": [
      "78.5\n"
     ]
    }
   ],
   "source": [
    "#11\n",
    "from abc import ABC, abstractmethod\n",
    "\n",
    "class Shape(ABC):\n",
    "    @abstractmethod\n",
    "    def area(self):\n",
    "        pass\n",
    "\n",
    "class Circle(Shape):\n",
    "    def __init__(self, radius):\n",
    "        self.radius = radius\n",
    "\n",
    "    def area(self):\n",
    "        return 3.14 * self.radius ** 2\n",
    "\n",
    "# Cannot instantiate abstract class\n",
    "# shape = Shape()  # This will raise an error\n",
    "\n",
    "# Create an instance of a concrete subclass\n",
    "circle = Circle(5)\n",
    "print(circle.area())  # Output: 78.5\n"
   ]
  },
  {
   "cell_type": "code",
   "execution_count": 46,
   "id": "07d81a34-06c8-4573-9f5f-66b9cc784897",
   "metadata": {},
   "outputs": [],
   "source": [
    "#12\n",
    "import math\n",
    "\n",
    "class Shape:\n",
    "    def area(self):\n",
    "        pass\n",
    "\n",
    "class Circle(Shape):\n",
    "    def __init__(self, radius):\n",
    "        self.radius = radius\n",
    "\n",
    "    def area(self):\n",
    "        return math.pi * self.radius**2\n",
    "\n",
    "class Rectangle(Shape):\n",
    "    def __init__(self, length, width):\n",
    "        self.length = length\n",
    "        self.width = width\n",
    "\n",
    "    def area(self):\n",
    "        return self.length * self.width\n",
    "\n",
    "class Triangle(Shape):\n",
    "    def __init__(self, base, height):\n",
    "        self.base = base\n",
    "        self.height = height\n",
    "\n",
    "    def area(self):\n",
    "        return 0.5 * self.base * self.height\n",
    "\n"
   ]
  },
  {
   "cell_type": "markdown",
   "id": "c9bbcddb-303c-4231-9a0d-e46ebabe0331",
   "metadata": {},
   "source": [
    "#13\n",
    "Polymorphism enhances code reusability and flexibility by allowing objects of different classes to be treated as objects of a common superclass. This means that functions or methods can operate on these objects without needing to know their specific class, promoting cleaner and more modular code."
   ]
  },
  {
   "cell_type": "markdown",
   "id": "bd660eb9-94a8-43ca-a0db-b7b173f4faa0",
   "metadata": {},
   "source": [
    "#14\n",
    "The super() function is used to call methods of a parent class within a subclass. It allows accessing methods and properties from the superclass, enabling code reuse and supporting polymorphism by providing a way to call overridden methods from child classes."
   ]
  },
  {
   "cell_type": "code",
   "execution_count": 47,
   "id": "1477d924-20db-4e38-bc5c-95a17484734e",
   "metadata": {},
   "outputs": [],
   "source": [
    "#15\n",
    "class Account:\n",
    "    def withdraw(self, amount):\n",
    "        pass\n",
    "\n",
    "class SavingsAccount(Account):\n",
    "    def withdraw(self, amount):\n",
    "        print(f\"Withdrawing {amount} from savings account.\")\n",
    "\n",
    "class CheckingAccount(Account):\n",
    "    def withdraw(self, amount):\n",
    "        print(f\"Withdrawing {amount} from checking account.\")\n",
    "\n",
    "class CreditCardAccount(Account):\n",
    "    def withdraw(self, amount):\n",
    "        print(f\"Withdrawing {amount} from credit card account.\")\n"
   ]
  },
  {
   "cell_type": "code",
   "execution_count": 48,
   "id": "052091ca-ec99-4a84-8426-63f45dd278c3",
   "metadata": {},
   "outputs": [
    {
     "name": "stdout",
     "output_type": "stream",
     "text": [
      "15\n",
      "50\n"
     ]
    }
   ],
   "source": [
    "#16\n",
    "class Number:\n",
    "    def __init__(self, value):\n",
    "        self.value = value\n",
    "\n",
    "    def __add__(self, other):\n",
    "        return self.value + other.value\n",
    "\n",
    "    def __mul__(self, other):\n",
    "        return self.value * other.value\n",
    "\n",
    "num1 = Number(5)\n",
    "num2 = Number(10)\n",
    "\n",
    "print(num1 + num2)  # Outputs: 15\n",
    "print(num1 * num2)  # Outputs: 50\n"
   ]
  },
  {
   "cell_type": "markdown",
   "id": "475792c6-5ef7-4ba2-9fa0-2fe01d9a9cda",
   "metadata": {},
   "source": [
    "#17\n",
    "Dynamic polymorphism refers to the ability of a language to determine which method to execute at runtime based on the object's type. In Python, dynamic polymorphism is achieved through method overriding, where a subclass provides a specific implementation of a method defined in its superclass."
   ]
  },
  {
   "cell_type": "code",
   "execution_count": 49,
   "id": "994b97f4-4d0e-454e-ac58-e9fb58ddf43a",
   "metadata": {},
   "outputs": [],
   "source": [
    "#18\n",
    "class Employee:\n",
    "    def calculate_salary(self):\n",
    "        pass\n",
    "\n",
    "class Manager(Employee):\n",
    "    def calculate_salary(self):\n",
    "        print(\"Calculating manager's salary.\")\n",
    "\n",
    "class Developer(Employee):\n",
    "    def calculate_salary(self):\n",
    "        print(\"Calculating developer's salary.\")\n",
    "\n",
    "class Designer(Employee):\n",
    "    def calculate_salary(self):\n",
    "        print(\"Calculating designer's salary.\")\n"
   ]
  },
  {
   "cell_type": "markdown",
   "id": "9209f2b2-e601-4384-ba64-4cf78ed1959b",
   "metadata": {},
   "source": [
    "#19\n",
    "In Python, function pointers are not explicitly defined as in languages like C++. Instead, polymorphism is achieved through function overriding and dynamic dispatch, where the appropriate method is called based on the object's type at runtime."
   ]
  },
  {
   "cell_type": "code",
   "execution_count": 50,
   "id": "3faa22e2-e000-490f-a170-50078a3bbac3",
   "metadata": {},
   "outputs": [
    {
     "name": "stdout",
     "output_type": "stream",
     "text": [
      "Mammal making sound.\n",
      "Bird chirping.\n",
      "Reptile hissing.\n"
     ]
    }
   ],
   "source": [
    "#20\n",
    "class Animal:\n",
    "    def eat(self):\n",
    "        pass\n",
    "\n",
    "    def sleep(self):\n",
    "        pass\n",
    "\n",
    "    def make_sound(self):\n",
    "        pass\n",
    "\n",
    "class Mammal(Animal):\n",
    "    def make_sound(self):\n",
    "        print(\"Mammal making sound.\")\n",
    "\n",
    "class Bird(Animal):\n",
    "    def make_sound(self):\n",
    "        print(\"Bird chirping.\")\n",
    "\n",
    "class Reptile(Animal):\n",
    "    def make_sound(self):\n",
    "        print(\"Reptile hissing.\")\n",
    "\n",
    "# Example usage\n",
    "animals = [Mammal(), Bird(), Reptile()]\n",
    "for animal in animals:\n",
    "    animal.make_sound()\n"
   ]
  },
  {
   "cell_type": "markdown",
   "id": "4261a6e8-d829-464e-b026-8567011b9cdb",
   "metadata": {},
   "source": [
    "#1\n",
    "Abstraction in Python, and in object-oriented programming (OOP) in general, refers to the concept of hiding the complex implementation details of a system and exposing only the necessary parts to the outside world. In OOP, abstraction is achieved through abstract classes and interfaces, allowing you to define common behavior without specifying the actual implementation."
   ]
  },
  {
   "cell_type": "markdown",
   "id": "0531cf24-6523-4ba8-8a79-05d7ea97c276",
   "metadata": {},
   "source": [
    "#2\n",
    "The benefits of abstraction in terms of code organization and complexity reduction are significant:\n",
    "\n",
    "Abstraction helps in organizing code by separating the high-level structure from the low-level implementation details. This makes code more modular and easier to maintain.\n",
    "It reduces complexity by providing a clear and simplified interface for interacting with objects. Users only need to know how to use the abstracted interface without worrying about the internal workings.\n",
    "Abstraction promotes code reusability since common functionalities can be defined in abstract classes and inherited by multiple subclasses. This reduces duplication and promotes a more efficient development process."
   ]
  },
  {
   "cell_type": "code",
   "execution_count": 1,
   "id": "15f01124-1637-489d-83b7-61820d020bf7",
   "metadata": {},
   "outputs": [
    {
     "name": "stdout",
     "output_type": "stream",
     "text": [
      "Area of the circle: 78.53981633974483\n",
      "Area of the rectangle: 12\n"
     ]
    }
   ],
   "source": [
    "#3\n",
    "from abc import ABC, abstractmethod\n",
    "import math\n",
    "\n",
    "class Shape(ABC):\n",
    "    @abstractmethod\n",
    "    def calculate_area(self):\n",
    "        pass\n",
    "\n",
    "class Circle(Shape):\n",
    "    def __init__(self, radius):\n",
    "        self.radius = radius\n",
    "\n",
    "    def calculate_area(self):\n",
    "        return math.pi * (self.radius ** 2)\n",
    "\n",
    "class Rectangle(Shape):\n",
    "    def __init__(self, width, height):\n",
    "        self.width = width\n",
    "        self.height = height\n",
    "\n",
    "    def calculate_area(self):\n",
    "        return self.width * self.height\n",
    "\n",
    "# Example usage\n",
    "circle = Circle(5)\n",
    "print(\"Area of the circle:\", circle.calculate_area())\n",
    "\n",
    "rectangle = Rectangle(3, 4)\n",
    "print(\"Area of the rectangle:\", rectangle.calculate_area())\n"
   ]
  },
  {
   "cell_type": "markdown",
   "id": "fb67dae1-ca60-4617-83dc-30b6110a9ff3",
   "metadata": {},
   "source": [
    "#4\n",
    "Abstract classes in Python are classes that cannot be instantiated directly and are meant to be subclassed. The abc module provides tools for working with abstract base classes. Abstract methods are defined using the @abstractmethod decorator from the abc module. "
   ]
  },
  {
   "cell_type": "markdown",
   "id": "9fcfa853-2b4c-44bb-a161-8b5bcbbafbc6",
   "metadata": {},
   "source": [
    "#5\n",
    "Abstract classes differ from regular classes in Python in that they cannot be instantiated directly. Abstract classes are meant to serve as blueprints for other classes to inherit from and implement their abstract methods. Use cases for abstract classes include defining common interfaces or behaviors that multiple subclasses can share, promoting code consistency, and enforcing a structure in large codebases where certain methods must be implemented by subclasses. Regular classes, on the other hand, can be instantiated directly and are used to create objects with specific attributes and behaviors."
   ]
  },
  {
   "cell_type": "code",
   "execution_count": 2,
   "id": "fb92468b-b873-43a5-aa3f-dcb7e8860227",
   "metadata": {},
   "outputs": [
    {
     "name": "stdout",
     "output_type": "stream",
     "text": [
      "Deposited $500. Current balance: $1500\n",
      "Insufficient funds!\n"
     ]
    }
   ],
   "source": [
    "#6\n",
    "class BankAccount:\n",
    "    def __init__(self, initial_balance=0):\n",
    "        self._balance = initial_balance  # Using underscore convention to indicate it's a protected attribute\n",
    "\n",
    "    def deposit(self, amount):\n",
    "        self._balance += amount\n",
    "        print(f\"Deposited ${amount}. Current balance: ${self._balance}\")\n",
    "\n",
    "    def withdraw(self, amount):\n",
    "        if self._balance >= amount:\n",
    "            self._balance -= amount\n",
    "            print(f\"Withdrew ${amount}. Current balance: ${self._balance}\")\n",
    "        else:\n",
    "            print(\"Insufficient funds!\")\n",
    "\n",
    "# Example usage\n",
    "account = BankAccount(1000)\n",
    "account.deposit(500)\n",
    "account.withdraw(2000)\n"
   ]
  },
  {
   "cell_type": "markdown",
   "id": "7f99e1be-e35d-419e-a8e5-1a1448d81efb",
   "metadata": {},
   "source": [
    "#7\n",
    "Interface classes in Python are used to define a blueprint of methods that must be implemented by classes that inherit from them. They play a crucial role in achieving abstraction by providing a common interface while hiding the implementation details. In Python, interfaces are typically achieved through abstract base classes (ABCs) using the abc module. By defining interface classes, you enforce a contract that subclasses must adhere to, promoting code consistency and ensuring that required methods are implemented."
   ]
  },
  {
   "cell_type": "code",
   "execution_count": 3,
   "id": "24e1f75a-1717-429e-b8d8-26729a877f1a",
   "metadata": {},
   "outputs": [
    {
     "name": "stdout",
     "output_type": "stream",
     "text": [
      "Dog is eating\n",
      "Dog is sleeping\n",
      "Cat is eating\n",
      "Cat is sleeping\n"
     ]
    }
   ],
   "source": [
    "#7\n",
    "from abc import ABC, abstractmethod\n",
    "\n",
    "class Animal(ABC):\n",
    "    @abstractmethod\n",
    "    def eat(self):\n",
    "        pass\n",
    "\n",
    "    @abstractmethod\n",
    "    def sleep(self):\n",
    "        pass\n",
    "\n",
    "class Dog(Animal):\n",
    "    def eat(self):\n",
    "        print(\"Dog is eating\")\n",
    "\n",
    "    def sleep(self):\n",
    "        print(\"Dog is sleeping\")\n",
    "\n",
    "class Cat(Animal):\n",
    "    def eat(self):\n",
    "        print(\"Cat is eating\")\n",
    "\n",
    "    def sleep(self):\n",
    "        print(\"Cat is sleeping\")\n",
    "\n",
    "# Example usage\n",
    "dog = Dog()\n",
    "dog.eat()\n",
    "dog.sleep()\n",
    "\n",
    "cat = Cat()\n",
    "cat.eat()\n",
    "cat.sleep()\n"
   ]
  },
  {
   "cell_type": "markdown",
   "id": "b4cef532-c28e-4f11-8d74-66af84ae0691",
   "metadata": {},
   "source": [
    "#8\n",
    "Encapsulation is closely related to abstraction and refers to bundling data (attributes) and methods (functions) that operate on the data within a class. It helps in hiding the internal state of an object and only exposing a public interface for interacting with the object. This is crucial for achieving abstraction because it allows you to control access to the internal data and behavior of an object."
   ]
  },
  {
   "cell_type": "markdown",
   "id": "9e4b6939-aff9-4164-b190-b957aa8982ba",
   "metadata": {},
   "source": [
    "#9\n",
    "Abstract methods in Python enforce abstraction by defining a method signature without providing an implementation. They are part of abstract base classes (ABCs) and must be implemented by concrete subclasses. Abstract methods serve as placeholders for functionality that subclasses are required to implement, ensuring that specific behavior is defined for all subclasses that inherit from the abstract class. This enforces a contract and promotes code consistency across different subclasses."
   ]
  },
  {
   "cell_type": "markdown",
   "id": "f2886607-e3ad-4215-8bfa-e018c25f00cd",
   "metadata": {},
   "source": [
    "#10\n",
    "Abstract methods are defined using the @abstractmethod decorator from the abc module, as shown in previous examples. When a subclass fails to implement an abstract method defined in its superclass, Python raises a TypeError at runtime, indicating that the abstract method needs to be overridden. This mechanism helps in achieving a structured and predictable class hierarchy with clearly defined responsibilities for each class.\n",
    "\n",
    "\n",
    "\n",
    "\n",
    "\n",
    "\n"
   ]
  },
  {
   "cell_type": "code",
   "execution_count": 4,
   "id": "82af0f29-fc14-4148-a542-a73121a98480",
   "metadata": {},
   "outputs": [
    {
     "name": "stdout",
     "output_type": "stream",
     "text": [
      "Car is starting\n",
      "Car is stopping\n",
      "Motorcycle is starting\n",
      "Motorcycle is stopping\n"
     ]
    }
   ],
   "source": [
    "#11\n",
    "from abc import ABC, abstractmethod\n",
    "\n",
    "class Vehicle(ABC):\n",
    "    @abstractmethod\n",
    "    def start(self):\n",
    "        pass\n",
    "\n",
    "    @abstractmethod\n",
    "    def stop(self):\n",
    "        pass\n",
    "\n",
    "class Car(Vehicle):\n",
    "    def start(self):\n",
    "        print(\"Car is starting\")\n",
    "\n",
    "    def stop(self):\n",
    "        print(\"Car is stopping\")\n",
    "\n",
    "class Motorcycle(Vehicle):\n",
    "    def start(self):\n",
    "        print(\"Motorcycle is starting\")\n",
    "\n",
    "    def stop(self):\n",
    "        print(\"Motorcycle is stopping\")\n",
    "\n",
    "# Example usage\n",
    "car = Car()\n",
    "car.start()\n",
    "car.stop()\n",
    "\n",
    "motorcycle = Motorcycle()\n",
    "motorcycle.start()\n",
    "motorcycle.stop()\n"
   ]
  },
  {
   "cell_type": "code",
   "execution_count": 5,
   "id": "355897fd-fb50-49be-a243-930d724dd020",
   "metadata": {},
   "outputs": [
    {
     "name": "stdout",
     "output_type": "stream",
     "text": [
      "Area of the circle: 78.5\n"
     ]
    }
   ],
   "source": [
    "#12\n",
    "from abc import ABC, abstractmethod\n",
    "\n",
    "class Shape(ABC):\n",
    "    @property\n",
    "    @abstractmethod\n",
    "    def area(self):\n",
    "        pass\n",
    "\n",
    "class Circle(Shape):\n",
    "    def __init__(self, radius):\n",
    "        self.radius = radius\n",
    "\n",
    "    @property\n",
    "    def area(self):\n",
    "        return 3.14 * self.radius**2\n",
    "\n",
    "# Example usage\n",
    "circle = Circle(5)\n",
    "print(\"Area of the circle:\", circle.area)\n"
   ]
  },
  {
   "cell_type": "code",
   "execution_count": 6,
   "id": "0e46b005-89e9-4811-b205-4ddc275a43e9",
   "metadata": {},
   "outputs": [
    {
     "name": "stdout",
     "output_type": "stream",
     "text": [
      "John Doe salary: 50000\n",
      "Jane Smith salary: 60000\n",
      "David Brown salary: 55000\n"
     ]
    }
   ],
   "source": [
    "#13\n",
    "from abc import ABC, abstractmethod\n",
    "\n",
    "class Employee(ABC):\n",
    "    def __init__(self, name):\n",
    "        self.name = name\n",
    "\n",
    "    @abstractmethod\n",
    "    def get_salary(self):\n",
    "        pass\n",
    "\n",
    "class Manager(Employee):\n",
    "    def get_salary(self):\n",
    "        return 50000  # Example salary for a manager\n",
    "\n",
    "class Developer(Employee):\n",
    "    def get_salary(self):\n",
    "        return 60000  # Example salary for a developer\n",
    "\n",
    "class Designer(Employee):\n",
    "    def get_salary(self):\n",
    "        return 55000  # Example salary for a designer\n",
    "\n",
    "# Example usage\n",
    "manager = Manager(\"John Doe\")\n",
    "print(manager.name, \"salary:\", manager.get_salary())\n",
    "\n",
    "developer = Developer(\"Jane Smith\")\n",
    "print(developer.name, \"salary:\", developer.get_salary())\n",
    "\n",
    "designer = Designer(\"David Brown\")\n",
    "print(designer.name, \"salary:\", designer.get_salary())\n"
   ]
  },
  {
   "cell_type": "markdown",
   "id": "af5fa916-d6f2-42d6-8b0e-5e2dc61fdb40",
   "metadata": {},
   "source": [
    "#14\n",
    "Abstract classes in Python are classes that cannot be instantiated directly and are meant to be subclassed. They can have abstract methods, abstract properties, or a combination of both. Concrete classes, on the other hand, are regular classes that can be instantiated directly and provide concrete implementations for all abstract methods and properties defined in their abstract superclass.\n",
    "The main differences between abstract classes and concrete classes in Python are:\n",
    "\n",
    "Abstract classes cannot be instantiated directly, while concrete classes can be.\n",
    "Abstract classes may contain abstract methods or properties, which must be implemented by subclasses.\n",
    "Concrete classes provide concrete implementations for all methods and properties defined in their superclass."
   ]
  },
  {
   "cell_type": "markdown",
   "id": "150f4acd-9db0-4535-88ac-7d06e7587dbe",
   "metadata": {},
   "source": [
    "#15\n",
    "Abstract data types (ADTs) refer to data structures with well-defined operations but unspecified implementations. They are a way of abstracting the behavior of a data structure from its implementation details. In Python, ADTs can be implemented using classes with methods that define the operations on the data structure, while hiding the internal implementation.\n",
    "For example, a stack can be implemented as an abstract data type with methods like push(), pop(), and peek(). Users interact with the stack using these operations without needing to know the underlying data structure implementation.\n",
    "\n",
    "ADTs play a crucial role in achieving abstraction by providing a clear interface for working with data structures while abstracting away the implementation details. This separation of interface and implementation helps in managing complexity, promoting code reuse, and ensuring a consistent behavior across different data structures."
   ]
  },
  {
   "cell_type": "code",
   "execution_count": 7,
   "id": "196c3407-2d48-4397-97d0-24bb9ed720a3",
   "metadata": {},
   "outputs": [
    {
     "name": "stdout",
     "output_type": "stream",
     "text": [
      "Desktop is powering on\n",
      "Desktop is shutting down\n",
      "Laptop is powering on\n",
      "Laptop is shutting down\n"
     ]
    }
   ],
   "source": [
    "#16\n",
    "from abc import ABC, abstractmethod\n",
    "\n",
    "class ComputerSystem(ABC):\n",
    "    @abstractmethod\n",
    "    def power_on(self):\n",
    "        pass\n",
    "\n",
    "    @abstractmethod\n",
    "    def shutdown(self):\n",
    "        pass\n",
    "\n",
    "class Desktop(ComputerSystem):\n",
    "    def power_on(self):\n",
    "        print(\"Desktop is powering on\")\n",
    "\n",
    "    def shutdown(self):\n",
    "        print(\"Desktop is shutting down\")\n",
    "\n",
    "class Laptop(ComputerSystem):\n",
    "    def power_on(self):\n",
    "        print(\"Laptop is powering on\")\n",
    "\n",
    "    def shutdown(self):\n",
    "        print(\"Laptop is shutting down\")\n",
    "\n",
    "# Example usage\n",
    "desktop = Desktop()\n",
    "desktop.power_on()\n",
    "desktop.shutdown()\n",
    "\n",
    "laptop = Laptop()\n",
    "laptop.power_on()\n",
    "laptop.shutdown()\n"
   ]
  },
  {
   "cell_type": "markdown",
   "id": "3b9e7a6b-4d7b-4a1e-9eba-57f74e7b6289",
   "metadata": {},
   "source": [
    "#17\n",
    "The benefits of using abstraction in large-scale software development projects include:\n",
    "Modularity: Abstraction allows you to divide complex systems into manageable and independent modules. Each module can focus on a specific aspect of functionality, leading to easier maintenance and updates.\n",
    "Code Reusability: Abstract classes and interfaces promote code reuse by defining common behaviors and contracts that multiple classes can adhere to. This reduces redundancy and promotes a more efficient development process.\n",
    "Encapsulation: Abstraction helps in encapsulating the internal details of a system, exposing only necessary interfaces to interact with. This improves code readability, reduces complexity, and protects internal implementations from external interference.\n",
    "Scalability: Abstraction provides a foundation for scalability as new functionalities or components can be added without affecting existing code, as long as they adhere to the defined interfaces and contracts.\n",
    "Ease of Understanding and Maintenance: Abstraction improves code organization and clarity by hiding complex implementation details. This makes it easier for developers to understand, modify, and extend the codebase over time."
   ]
  },
  {
   "cell_type": "markdown",
   "id": "236f8f13-6226-499e-9005-b53a08391cc5",
   "metadata": {},
   "source": [
    "#18Abstraction enhances code reusability and modularity in Python programs by:\n",
    "Defining Common Interfaces: Abstract base classes and interfaces define common behaviors and contracts that subclasses must implement. This promotes code reuse as multiple subclasses can share the same interface.\n",
    "Encapsulating Implementation Details: Abstraction hides the internal implementation details of classes, exposing only the essential interfaces. This separation allows changes to the implementation without affecting the code that uses the interface.\n",
    "Promoting Modular Design: Abstraction encourages a modular design where each component focuses on a specific task or functionality. This modular structure improves code organization, maintenance, and readability.\n",
    "Facilitating Polymorphism: Abstraction, coupled with polymorphism, allows different classes to be treated uniformly based on their shared interface or abstract base class. This enhances flexibility and extensibility in the codebase."
   ]
  },
  {
   "cell_type": "code",
   "execution_count": 8,
   "id": "91d5c8ee-d336-4c6b-b437-a256ba1dcdba",
   "metadata": {},
   "outputs": [
    {
     "name": "stdout",
     "output_type": "stream",
     "text": [
      "Added Python Programming to the library\n",
      "Borrowed Python Programming\n",
      "Java Programming is not available in the library\n"
     ]
    }
   ],
   "source": [
    "#19\n",
    "from abc import ABC, abstractmethod\n",
    "\n",
    "class LibrarySystem(ABC):\n",
    "    def __init__(self):\n",
    "        self.books = []\n",
    "\n",
    "    @abstractmethod\n",
    "    def add_book(self, book):\n",
    "        pass\n",
    "\n",
    "    @abstractmethod\n",
    "    def borrow_book(self, book):\n",
    "        pass\n",
    "\n",
    "class Library(LibrarySystem):\n",
    "    def add_book(self, book):\n",
    "        self.books.append(book)\n",
    "        print(f\"Added {book} to the library\")\n",
    "\n",
    "    def borrow_book(self, book):\n",
    "        if book in self.books:\n",
    "            self.books.remove(book)\n",
    "            print(f\"Borrowed {book}\")\n",
    "        else:\n",
    "            print(f\"{book} is not available in the library\")\n",
    "\n",
    "# Example usage\n",
    "library = Library()\n",
    "library.add_book(\"Python Programming\")\n",
    "library.borrow_book(\"Python Programming\")\n",
    "library.borrow_book(\"Java Programming\")\n"
   ]
  },
  {
   "cell_type": "markdown",
   "id": "d4708fb6-ba93-4eb3-bb37-e8190e1211db",
   "metadata": {},
   "source": [
    "#20\n",
    "Method abstraction in Python refers to defining abstract methods in abstract base classes (ABCs) without providing implementations. This allows subclasses to provide their own specific implementations for these methods while adhering to the defined method signature.\n",
    "Method abstraction relates to polymorphism in Python as it enables polymorphic behavior. Polymorphism allows objects of different classes to be treated uniformly based on their common interface or abstract base class. When a subclass implements an abstract method defined in its superclass, it allows instances of that subclass to be used interchangeably with instances of the superclass or other subclasses sharing the same abstract method.\n",
    "\n",
    "This relationship between method abstraction and polymorphism promotes flexibility, code reuse, and extensibility in object-oriented programming by providing a consistent interface for diverse implementations."
   ]
  },
  {
   "cell_type": "markdown",
   "id": "7dbf4364-baa9-4639-9c89-83bf3fece79f",
   "metadata": {},
   "source": [
    "#1\n",
    "Concept of Composition in Python:\n",
    "Composition is a concept in object-oriented programming where objects of one class are composed of objects of another class. It involves creating complex objects by combining simpler objects, forming a part-whole relationship. This allows for building more complex and specialized objects while promoting code reusability and flexibility."
   ]
  },
  {
   "cell_type": "markdown",
   "id": "cd4ded0b-7891-42cd-ac5a-033793c1ace2",
   "metadata": {},
   "source": [
    "#2\n",
    "Difference between Composition and Inheritance:\n",
    "\n",
    "Inheritance: Inheritance is a mechanism where a class (subclass) inherits attributes and behaviors from another class (superclass). It establishes an \"is-a\" relationship, where a subclass is a type of its superclass. Inheritance promotes code reuse and allows for creating hierarchical relationships between classes.\n",
    "Composition: Composition is a design principle where a class contains an object of another class as a part of its state. It establishes a \"has-a\" relationship, where a class has an instance of another class as one of its attributes. Composition allows for creating more flexible and loosely coupled relationships between classes."
   ]
  },
  {
   "cell_type": "code",
   "execution_count": 9,
   "id": "26f618c1-fbb4-4aa5-9094-7317ec156f48",
   "metadata": {},
   "outputs": [
    {
     "name": "stdout",
     "output_type": "stream",
     "text": [
      "Book Title: Harry Potter\n",
      "Author: J.K. Rowling, Birthdate: July 31, 1965\n"
     ]
    }
   ],
   "source": [
    "#3\n",
    "class Author:\n",
    "    def __init__(self, name, birthdate):\n",
    "        self.name = name\n",
    "        self.birthdate = birthdate\n",
    "\n",
    "class Book:\n",
    "    def __init__(self, title, author_name, author_birthdate):\n",
    "        self.title = title\n",
    "        self.author = Author(author_name, author_birthdate)\n",
    "\n",
    "# Example usage\n",
    "author = Author(\"J.K. Rowling\", \"July 31, 1965\")\n",
    "book = Book(\"Harry Potter\", author.name, author.birthdate)\n",
    "print(f\"Book Title: {book.title}\")\n",
    "print(f\"Author: {book.author.name}, Birthdate: {book.author.birthdate}\")\n"
   ]
  },
  {
   "cell_type": "markdown",
   "id": "8b0cba8a-af14-4203-8a71-ed8481157d6c",
   "metadata": {},
   "source": [
    "#4\n",
    "Benefits of Using Composition over Inheritance:\n",
    "\n",
    "Flexibility: Composition allows for more flexible designs compared to inheritance. With composition, you can change the behavior of a class by changing the composition of its components, rather than altering its inheritance hierarchy.\n",
    "Code Reusability: Composition promotes code reusability by creating smaller, more focused classes that can be reused in various contexts. It encourages building objects from simpler components, enhancing modularity and maintainability.\n",
    "Loose Coupling: Composition results in loosely coupled classes, reducing dependencies between components. This makes it easier to modify and extend the codebase without affecting other parts of the system.\n",
    "Avoiding the Fragility of Inheritance: Inheritance hierarchies can become complex and fragile over time. Composition avoids some of the pitfalls associated with deep inheritance hierarchies, such as the diamond problem and tight coupling."
   ]
  },
  {
   "cell_type": "code",
   "execution_count": 10,
   "id": "8e04b048-b04b-40b9-8bd1-6f445482e52e",
   "metadata": {},
   "outputs": [
    {
     "name": "stdout",
     "output_type": "stream",
     "text": [
      "Engine started\n",
      "Computer Science\n"
     ]
    }
   ],
   "source": [
    "#5\n",
    "# Example 1: Composition in a Car class\n",
    "class Engine:\n",
    "    def start(self):\n",
    "        print(\"Engine started\")\n",
    "\n",
    "class Car:\n",
    "    def __init__(self):\n",
    "        self.engine = Engine()  # Composition\n",
    "\n",
    "    def start(self):\n",
    "        self.engine.start()\n",
    "\n",
    "# Example usage\n",
    "car = Car()\n",
    "car.start()\n",
    "\n",
    "# Example 2: Composition in a University class\n",
    "class Department:\n",
    "    def __init__(self, name):\n",
    "        self.name = name\n",
    "\n",
    "class University:\n",
    "    def __init__(self):\n",
    "        self.department = Department(\"Computer Science\")  # Composition\n",
    "\n",
    "# Example usage\n",
    "university = University()\n",
    "print(university.department.name)  # Output: Computer Science\n"
   ]
  },
  {
   "cell_type": "code",
   "execution_count": 11,
   "id": "f43a88e5-653c-47a1-879f-daff3a89db2a",
   "metadata": {},
   "outputs": [
    {
     "name": "stdout",
     "output_type": "stream",
     "text": [
      "Playlist: My Playlist\n",
      "- Shape of You by Ed Sheeran\n",
      "- Roar by Katy Perry\n"
     ]
    }
   ],
   "source": [
    "#6\n",
    "class Song:\n",
    "    def __init__(self, title, artist):\n",
    "        self.title = title\n",
    "        self.artist = artist\n",
    "\n",
    "class Playlist:\n",
    "    def __init__(self, name):\n",
    "        self.name = name\n",
    "        self.songs = []  # List to store songs\n",
    "\n",
    "    def add_song(self, song):\n",
    "        self.songs.append(song)\n",
    "\n",
    "# Example usage\n",
    "song1 = Song(\"Shape of You\", \"Ed Sheeran\")\n",
    "song2 = Song(\"Roar\", \"Katy Perry\")\n",
    "playlist = Playlist(\"My Playlist\")\n",
    "playlist.add_song(song1)\n",
    "playlist.add_song(song2)\n",
    "\n",
    "print(f\"Playlist: {playlist.name}\")\n",
    "for song in playlist.songs:\n",
    "    print(f\"- {song.title} by {song.artist}\")\n"
   ]
  },
  {
   "cell_type": "markdown",
   "id": "e5d3a417-4ff3-479f-b32d-7618b71f1694",
   "metadata": {},
   "source": [
    "#7\n",
    "Concept of \"has-a\" relationships in composition:\n",
    "In composition, the concept of \"has-a\" relationship denotes that an object contains another object as a component or part of its state. This relationship is established when one class is composed of another class or classes.\n",
    "For example, in the context of a music player system:\n",
    "\n",
    "A Playlist \"has-a\" collection of Song objects.\n",
    "A Car \"has-a\" Engine, Wheels, and Transmission.\n",
    "The \"has-a\" relationship in composition helps in designing software systems by allowing complex objects to be built from simpler components. It promotes modularity, code reusability, and flexibility in designing object-oriented systems."
   ]
  },
  {
   "cell_type": "code",
   "execution_count": 12,
   "id": "30a8d1ad-537d-4acc-893b-4e52929c6d36",
   "metadata": {},
   "outputs": [
    {
     "name": "stdout",
     "output_type": "stream",
     "text": [
      "CPU Model: Intel Core i7\n",
      "RAM Size: 16 GB\n",
      "Storage Capacity: 512 GB\n"
     ]
    }
   ],
   "source": [
    "#8\n",
    "class CPU:\n",
    "    def __init__(self, model):\n",
    "        self.model = model\n",
    "\n",
    "class RAM:\n",
    "    def __init__(self, size_gb):\n",
    "        self.size_gb = size_gb\n",
    "\n",
    "class Storage:\n",
    "    def __init__(self, capacity_gb):\n",
    "        self.capacity_gb = capacity_gb\n",
    "\n",
    "class Computer:\n",
    "    def __init__(self, cpu_model, ram_size, storage_capacity):\n",
    "        self.cpu = CPU(cpu_model)\n",
    "        self.ram = RAM(ram_size)\n",
    "        self.storage = Storage(storage_capacity)\n",
    "\n",
    "# Example usage\n",
    "computer = Computer(\"Intel Core i7\", 16, 512)\n",
    "print(f\"CPU Model: {computer.cpu.model}\")\n",
    "print(f\"RAM Size: {computer.ram.size_gb} GB\")\n",
    "print(f\"Storage Capacity: {computer.storage.capacity_gb} GB\")\n"
   ]
  },
  {
   "cell_type": "markdown",
   "id": "87650f62-1f00-497b-8f6a-2f052d5f17b8",
   "metadata": {},
   "source": [
    "#9\n",
    "Concept of \"delegation\" in composition:\n",
    "Delegation in composition refers to the practice of delegating responsibilities or operations to another object. It simplifies the design of complex systems by allowing objects to collaborate and share functionalities without inheriting from each other.\n",
    "For example, in the context of a music player system:\n",
    "\n",
    "A Playlist object may delegate the task of adding songs to a Song object.\n",
    "A Computer object may delegate the task of processing data to its CPU component.\n",
    "Delegation promotes code reuse, encapsulation, and separation of concerns, leading to more maintainable and scalable codebases."
   ]
  },
  {
   "cell_type": "code",
   "execution_count": 13,
   "id": "1ea0026d-42ab-45cf-a06c-dcbb4f67fa1c",
   "metadata": {},
   "outputs": [
    {
     "name": "stdout",
     "output_type": "stream",
     "text": [
      "Engine started\n",
      "Shifted to gear 1\n",
      "Wheels rotating\n"
     ]
    }
   ],
   "source": [
    "#10\n",
    "class Engine:\n",
    "    def start(self):\n",
    "        print(\"Engine started\")\n",
    "\n",
    "class Wheels:\n",
    "    def rotate(self):\n",
    "        print(\"Wheels rotating\")\n",
    "\n",
    "class Transmission:\n",
    "    def shift_gear(self, gear):\n",
    "        print(f\"Shifted to gear {gear}\")\n",
    "\n",
    "class Car:\n",
    "    def __init__(self):\n",
    "        self.engine = Engine()\n",
    "        self.wheels = Wheels()\n",
    "        self.transmission = Transmission()\n",
    "\n",
    "    def start(self):\n",
    "        self.engine.start()\n",
    "\n",
    "    def drive(self, gear):\n",
    "        self.transmission.shift_gear(gear)\n",
    "        self.wheels.rotate()\n",
    "\n",
    "# Example usage\n",
    "car = Car()\n",
    "car.start()\n",
    "car.drive(1)  # Shift to gear 1 and rotate wheels\n",
    "\n"
   ]
  },
  {
   "cell_type": "code",
   "execution_count": 14,
   "id": "28d84b2f-0b08-4e4a-8b2e-3d73b5211100",
   "metadata": {},
   "outputs": [
    {
     "name": "stdout",
     "output_type": "stream",
     "text": [
      "Engine started\n"
     ]
    }
   ],
   "source": [
    "#11\n",
    "class Engine:\n",
    "    def start(self):\n",
    "        print(\"Engine started\")\n",
    "\n",
    "class Car:\n",
    "    def __init__(self):\n",
    "        self._engine = Engine()\n",
    "\n",
    "    def start(self):\n",
    "        self._engine.start()\n",
    "\n",
    "# Example usage\n",
    "car = Car()\n",
    "car.start()  # Accessing the engine through the public method start(), encapsulating engine details\n"
   ]
  },
  {
   "cell_type": "code",
   "execution_count": 15,
   "id": "af4d23b9-1ddc-4d4f-a9a2-65c2ead43d3b",
   "metadata": {},
   "outputs": [
    {
     "name": "stdout",
     "output_type": "stream",
     "text": [
      "Course: Python Programming\n",
      "Instructor: John Doe\n",
      "Students enrolled:\n",
      "Alice\n",
      "Bob\n"
     ]
    }
   ],
   "source": [
    "#12\n",
    "class Student:\n",
    "    def __init__(self, name):\n",
    "        self.name = name\n",
    "\n",
    "class Instructor:\n",
    "    def __init__(self, name):\n",
    "        self.name = name\n",
    "\n",
    "class Course:\n",
    "    def __init__(self, name, instructor_name):\n",
    "        self.name = name\n",
    "        self.instructor = Instructor(instructor_name)\n",
    "        self.students = []  # List to store students\n",
    "\n",
    "    def enroll_student(self, student_name):\n",
    "        self.students.append(Student(student_name))\n",
    "\n",
    "# Example usage\n",
    "course = Course(\"Python Programming\", \"John Doe\")\n",
    "course.enroll_student(\"Alice\")\n",
    "course.enroll_student(\"Bob\")\n",
    "print(f\"Course: {course.name}\")\n",
    "print(f\"Instructor: {course.instructor.name}\")\n",
    "print(\"Students enrolled:\")\n",
    "for student in course.students:\n",
    "    print(student.name)\n"
   ]
  },
  {
   "cell_type": "markdown",
   "id": "0dcc6a4a-8f63-4b6d-a0ae-40b42817c5ed",
   "metadata": {},
   "source": [
    "#13\n",
    "Challenges and drawbacks of composition:\n",
    "Increased Complexity: Composition can lead to increased complexity in class hierarchies, especially when dealing with deeply nested compositions. Managing relationships between composed objects can become challenging.\n",
    "Potential for Tight Coupling: In some cases, composition can result in tight coupling between objects, where changes in one component may require modifications in multiple places. This can reduce code flexibility and maintainability.\n",
    "Object Initialization Overhead: Creating and managing multiple composed objects within a class can introduce initialization overhead, impacting performance in certain scenarios."
   ]
  },
  {
   "cell_type": "code",
   "execution_count": 16,
   "id": "6968afa9-df1b-4cd5-979b-77ca23548939",
   "metadata": {},
   "outputs": [
    {
     "name": "stdout",
     "output_type": "stream",
     "text": [
      "Menu: Italian Cuisine\n",
      "Dishes:\n",
      "- Margherita Pizza\n",
      "  Ingredients:\n",
      "  - Tomato\n",
      "  - Cheese\n",
      "- Caesar Salad\n",
      "  Ingredients:\n",
      "  - Tomato\n"
     ]
    }
   ],
   "source": [
    "#14\n",
    "class Ingredient:\n",
    "    def __init__(self, name):\n",
    "        self.name = name\n",
    "\n",
    "class Dish:\n",
    "    def __init__(self, name, ingredients):\n",
    "        self.name = name\n",
    "        self.ingredients = ingredients  # List of Ingredient objects\n",
    "\n",
    "class Menu:\n",
    "    def __init__(self, name, dishes):\n",
    "        self.name = name\n",
    "        self.dishes = dishes  # List of Dish objects\n",
    "\n",
    "# Example usage\n",
    "ingredient1 = Ingredient(\"Tomato\")\n",
    "ingredient2 = Ingredient(\"Cheese\")\n",
    "dish1 = Dish(\"Margherita Pizza\", [ingredient1, ingredient2])\n",
    "dish2 = Dish(\"Caesar Salad\", [ingredient1])\n",
    "menu = Menu(\"Italian Cuisine\", [dish1, dish2])\n",
    "\n",
    "print(f\"Menu: {menu.name}\")\n",
    "print(\"Dishes:\")\n",
    "for dish in menu.dishes:\n",
    "    print(f\"- {dish.name}\")\n",
    "    print(\"  Ingredients:\")\n",
    "    for ingredient in dish.ingredients:\n",
    "        print(f\"  - {ingredient.name}\")\n"
   ]
  },
  {
   "cell_type": "markdown",
   "id": "c64f3a0c-d400-4a37-801f-d5d727c8b3ad",
   "metadata": {},
   "source": [
    "#15\n",
    "How composition enhances code maintainability and modularity:\n",
    "Modularity: Composition promotes modularity by breaking down complex systems into smaller, reusable components. Each component can be developed and tested independently, leading to easier maintenance and updates.\n",
    "Code Reusability: Composition allows for reusing components across different parts of the system. For example, a Menu object can be used in multiple restaurant branches without duplicating its structure.\n",
    "Encapsulation and Abstraction: By encapsulating and abstracting the details of composed objects, composition enhances code readability and maintainability. Changes to internal implementations are confined to the relevant classes, reducing the impact on other parts of the system.\n",
    "Flexibility: Composition offers flexibility in designing relationships between objects. It allows for easily swapping or adding components without affecting the overall system architecture, promoting adaptability to changing requirements."
   ]
  },
  {
   "cell_type": "code",
   "execution_count": 17,
   "id": "ce31ae67-15b9-4579-9e0f-84296c2c4ceb",
   "metadata": {},
   "outputs": [
    {
     "name": "stdout",
     "output_type": "stream",
     "text": [
      "Hero equipped with Sword and Shield\n",
      "Inventory items: ['Potion']\n"
     ]
    }
   ],
   "source": [
    "#16\n",
    "class Weapon:\n",
    "    def __init__(self, name, damage):\n",
    "        self.name = name\n",
    "        self.damage = damage\n",
    "\n",
    "class Armor:\n",
    "    def __init__(self, name, defense):\n",
    "        self.name = name\n",
    "        self.defense = defense\n",
    "\n",
    "class Inventory:\n",
    "    def __init__(self):\n",
    "        self.items = []\n",
    "\n",
    "    def add_item(self, item):\n",
    "        self.items.append(item)\n",
    "\n",
    "class Character:\n",
    "    def __init__(self, name):\n",
    "        self.name = name\n",
    "        self.weapon = None\n",
    "        self.armor = None\n",
    "        self.inventory = Inventory()\n",
    "\n",
    "    def equip_weapon(self, weapon):\n",
    "        self.weapon = weapon\n",
    "\n",
    "    def equip_armor(self, armor):\n",
    "        self.armor = armor\n",
    "\n",
    "# Example usage\n",
    "sword = Weapon(\"Sword\", 20)\n",
    "shield = Armor(\"Shield\", 15)\n",
    "character = Character(\"Hero\")\n",
    "character.equip_weapon(sword)\n",
    "character.equip_armor(shield)\n",
    "character.inventory.add_item(\"Potion\")\n",
    "print(f\"{character.name} equipped with {character.weapon.name} and {character.armor.name}\")\n",
    "print(f\"Inventory items: {character.inventory.items}\")\n"
   ]
  },
  {
   "cell_type": "markdown",
   "id": "0f5b6f99-5942-4432-8bfd-a761e8aaf307",
   "metadata": {},
   "source": [
    "#17\n",
    "Concept of \"aggregation\" in composition:\n",
    "Aggregation is a specific form of composition where one object is composed of multiple other objects, but these objects can exist independently of each other. In aggregation, the composed objects have a \"whole-part\" relationship, but the parts can exist on their own.\n",
    "The key difference between aggregation and simple composition lies in the ownership and lifespan of the composed objects. In aggregation, the composed objects are not owned exclusively by the container object and can be shared among multiple containers or exist independently."
   ]
  },
  {
   "cell_type": "code",
   "execution_count": 18,
   "id": "20d1b3b7-3e24-4b37-a2c4-8fc685d5aeca",
   "metadata": {},
   "outputs": [
    {
     "name": "stdout",
     "output_type": "stream",
     "text": [
      "My House has 1 room(s), 1 furniture piece(s), and 1 appliance(s).\n"
     ]
    }
   ],
   "source": [
    "#18\n",
    "class Room:\n",
    "    def __init__(self, name, area):\n",
    "        self.name = name\n",
    "        self.area = area\n",
    "\n",
    "class Furniture:\n",
    "    def __init__(self, name):\n",
    "        self.name = name\n",
    "\n",
    "class Appliance:\n",
    "    def __init__(self, name):\n",
    "        self.name = name\n",
    "\n",
    "class House:\n",
    "    def __init__(self):\n",
    "        self.rooms = []\n",
    "        self.furniture = []\n",
    "        self.appliances = []\n",
    "\n",
    "    def add_room(self, room):\n",
    "        self.rooms.append(room)\n",
    "\n",
    "    def add_furniture(self, furniture):\n",
    "        self.furniture.append(furniture)\n",
    "\n",
    "    def add_appliance(self, appliance):\n",
    "        self.appliances.append(appliance)\n",
    "\n",
    "# Example usage\n",
    "living_room = Room(\"Living Room\", 25)\n",
    "sofa = Furniture(\"Sofa\")\n",
    "tv = Appliance(\"TV\")\n",
    "my_house = House()\n",
    "my_house.add_room(living_room)\n",
    "my_house.add_furniture(sofa)\n",
    "my_house.add_appliance(tv)\n",
    "print(f\"My House has {len(my_house.rooms)} room(s), {len(my_house.furniture)} furniture piece(s), and {len(my_house.appliances)} appliance(s).\")\n"
   ]
  },
  {
   "cell_type": "markdown",
   "id": "0ac2b0d3-7252-45ec-82d3-cba6069ae6d5",
   "metadata": {},
   "source": [
    "#19\n",
    "Achieving flexibility in composed objects dynamically at runtime:\n",
    "Flexibility in composed objects can be achieved by allowing them to be replaced or modified dynamically at runtime. This can be done by providing methods in the container class to modify or update the composed objects."
   ]
  },
  {
   "cell_type": "code",
   "execution_count": 25,
   "id": "7c8e5288-93e1-4962-8d35-1c839d6d178d",
   "metadata": {},
   "outputs": [
    {
     "name": "stdout",
     "output_type": "stream",
     "text": [
      "Alice's Posts:\n",
      "- Hello World!\n",
      "  Comments:\n",
      "    - Nice post! by Bob\n"
     ]
    }
   ],
   "source": [
    "#20\n",
    "class User:\n",
    "    def __init__(self, username):\n",
    "        self.username = username\n",
    "        self.posts = []\n",
    "        self.comments = []\n",
    "\n",
    "    def create_post(self, content):\n",
    "        self.posts.append(content)\n",
    "\n",
    "    def add_comment(self, post, comment):\n",
    "        post.comments.append(comment)\n",
    "\n",
    "class Post:\n",
    "    def __init__(self, content, author):\n",
    "        self.content = content\n",
    "        self.author = author\n",
    "        self.comments = []\n",
    "\n",
    "class Comment:\n",
    "    def __init__(self, content, author):\n",
    "        self.content = content\n",
    "        self.author = author\n",
    "\n",
    "# Example usage\n",
    "user1 = User(\"Alice\")\n",
    "user2 = User(\"Bob\")\n",
    "post1 = Post(\"Hello World!\", user1)\n",
    "comment1 = Comment(\"Nice post!\", user2)\n",
    "user1.create_post(post1)\n",
    "user2.add_comment(post1, comment1)\n",
    "\n",
    "print(f\"{user1.username}'s Posts:\")\n",
    "for post in user1.posts:\n",
    "    print(f\"- {post.content}\")\n",
    "    print(\"  Comments:\")\n",
    "    for comment in post.comments:\n",
    "        print(f\"    - {comment.content} by {comment.author.username}\")\n"
   ]
  },
  {
   "cell_type": "code",
   "execution_count": null,
   "id": "b8b1e799-9d6e-4396-bd0c-a28eff93044e",
   "metadata": {},
   "outputs": [],
   "source": []
  }
 ],
 "metadata": {
  "kernelspec": {
   "display_name": "Python 3 (ipykernel)",
   "language": "python",
   "name": "python3"
  },
  "language_info": {
   "codemirror_mode": {
    "name": "ipython",
    "version": 3
   },
   "file_extension": ".py",
   "mimetype": "text/x-python",
   "name": "python",
   "nbconvert_exporter": "python",
   "pygments_lexer": "ipython3",
   "version": "3.10.8"
  }
 },
 "nbformat": 4,
 "nbformat_minor": 5
}
